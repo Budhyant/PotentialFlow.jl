{
 "cells": [
  {
   "cell_type": "markdown",
   "metadata": {},
   "source": [
    "# Vortex patch dynamics"
   ]
  },
  {
   "cell_type": "code",
   "execution_count": null,
   "metadata": {},
   "outputs": [],
   "source": [
    "using PotentialFlow"
   ]
  },
  {
   "cell_type": "code",
   "execution_count": null,
   "metadata": {},
   "outputs": [],
   "source": [
    "using Plots\n",
    "pyplot()\n",
    "clibrary(:colorbrewer)\n",
    "default(grid = false)\n",
    "tkfont = Plots.font(\"Times New Roman\",15)"
   ]
  },
  {
   "cell_type": "markdown",
   "metadata": {},
   "source": [
    "### Create the vortex evolution function\n",
    "The following defines the function to compute the velocities of all vortex elements in the system"
   ]
  },
  {
   "cell_type": "code",
   "execution_count": null,
   "metadata": {},
   "outputs": [],
   "source": [
    "function compute_ẋ!(ẋ, x, t)\n",
    "        \n",
    "    # Zero the velocity\n",
    "    reset_velocity!(ẋ, x)\n",
    "    \n",
    "    # Compute the self-induced velocity of the system\n",
    "    self_induce_velocity!(ẋ, x, t)\n",
    "    \n",
    "end"
   ]
  },
  {
   "cell_type": "markdown",
   "metadata": {},
   "source": [
    "### Set up initial vortices"
   ]
  },
  {
   "cell_type": "markdown",
   "metadata": {},
   "source": [
    "Now we will set up the vortex elements in the physical plane. Let's first set up some functions that create a circular patch of point vortices of specified position, size, and strength."
   ]
  },
  {
   "cell_type": "code",
   "execution_count": null,
   "metadata": {},
   "outputs": [],
   "source": [
    "\"\"\"\n",
    "    vortex_patch!(vort,zc,Γ,radius,nring[,δ=0])\n",
    "\n",
    "Create a circular patch of vortex blobs, returned in `vort`. The centroid of the patch is at `zc`, its strength\n",
    "(circulation) is `Γ`, and its radius is `radius`. The patch consists of `nring` rings; if `nring = 1`, the patch\n",
    "consists of only a single vortex blob at the centroid. Each blob is assigned radius `δ`, which is 0 by default.\n",
    "\"\"\"\n",
    "function vortex_patch!(vort,zc,Γ,radius,nring::Int;δ=0)\n",
    "    Δr = radius/(nring-1/2)\n",
    "    dΓ = Γ/(1+8*nring*(nring-1)/2)\n",
    "    push!(vort,Vortex.Blob(zc,dΓ,δ))\n",
    "    for ir in 1:nring-1\n",
    "        nθ = 8*ir\n",
    "        for j = 0:nθ-1\n",
    "            push!(vort,Vortex.Blob(zc + ir*Δr*exp(im*2π*j/nθ),dΓ,δ))\n",
    "        end\n",
    "    end\n",
    "    return vort\n",
    "end\n",
    "\n",
    "\"\"\"\n",
    "    vortex_patch(zc,Γ,radius,nring[,δ=0]) -> Vector{Vortex.Blob}\n",
    "\n",
    "Create a circular patch of vortex blobs. The centroid of the patch is at `zc`, its strength\n",
    "(circulation) is `Γ`, and its radius is `radius`. The patch consists of `nring` rings; if `nring = 1`, the patch\n",
    "consists of only a single vortex blob at the centroid. Each blob is assigned radius `δ`, which is 0 by default.\n",
    "\"\"\"\n",
    "vortex_patch(zc,Γ,radius,nring::Int;δ=0) = vortex_patch!(Vortex.Blob[],zc,Γ,radius,nring,δ=δ)"
   ]
  },
  {
   "cell_type": "code",
   "execution_count": null,
   "metadata": {},
   "outputs": [],
   "source": [
    "?vortex_patch"
   ]
  },
  {
   "cell_type": "markdown",
   "metadata": {},
   "source": [
    "We will set up two patches for this demonstration. Each will have 10 rings. You can play with any of these."
   ]
  },
  {
   "cell_type": "code",
   "execution_count": null,
   "metadata": {},
   "outputs": [],
   "source": [
    "r0 = 0.3 # initial radius of the vortex patch\n",
    "d0 = 1.0  # initial distance between patch centroids\n",
    "Γ0 = 1.0 # strength of patch.\n",
    "nring = 1   # number of rings in each patch.\n",
    "Δt = 0.01*π^2*d0^2/abs(Γ0) # set the time step\n",
    "δ = 0.05\n",
    "nothing"
   ]
  },
  {
   "cell_type": "markdown",
   "metadata": {},
   "source": [
    "Initialize the system and the velocity structure. Any time you wish to restart a problem, you will need to run the next two input lines. The system here is composed of two patches, one initially at (0,0.5d0) and the other at (0,-0.5d0), but you can change that, obviously. And you can easily add more patches into the system `sys`."
   ]
  },
  {
   "cell_type": "code",
   "execution_count": null,
   "metadata": {},
   "outputs": [],
   "source": [
    "t = 0.0\n",
    "sys = (vortex_patch(0.5im*d0,Γ0,r0,nring,δ=δ),\n",
    "       vortex_patch(-0.5im*d0,Γ0,r0,nring,δ=δ))\n",
    "npatch = length(sys)"
   ]
  },
  {
   "cell_type": "markdown",
   "metadata": {},
   "source": [
    "No need to change anything in the following line. It just initializes a bunch of data structures for the problem."
   ]
  },
  {
   "cell_type": "code",
   "execution_count": null,
   "metadata": {},
   "outputs": [],
   "source": [
    "# Used for storage during time-marching\n",
    "sys₊ = deepcopy(sys) \n",
    "\n",
    "# Set up a velocity structure that will work for 4th-order Runge-Kutta\n",
    "ẋs = [allocate_velocity(sys) for k = 1:4];\n",
    "\n",
    "# To keep track of time\n",
    "timp = Float64[]\n",
    "\n",
    "# To keep track of element trajectories:\n",
    "track = [ComplexF64[] for sysi in sys]\n",
    "\n",
    "# To keep track of impulse in each patch\n",
    "imp = [ComplexF64[] for sysi in sys]\n",
    "\n",
    "append!(timp,t)\n",
    "for (i,sysi) in enumerate(sys)\n",
    "    append!(track[i],copy(Elements.position(sysi)))\n",
    "    append!(imp[i],Elements.impulse(sysi))\n",
    "end\n",
    "nothing"
   ]
  },
  {
   "cell_type": "markdown",
   "metadata": {},
   "source": [
    "Now perform the time marching. Note that you can run this repeatedly without resetting the system to its initial conditions. This allows you to check results occasionally."
   ]
  },
  {
   "cell_type": "code",
   "execution_count": null,
   "metadata": {},
   "outputs": [],
   "source": [
    "tf = 20\n",
    "T = 0:Δt:tf-Δt\n",
    "\n",
    "for tloc in T\n",
    "    TimeMarching.rk4!(sys₊, sys, t, Δt, compute_ẋ!, advect!, ẋs)\n",
    "    \n",
    "    sys₊, sys = sys, sys₊\n",
    "    \n",
    "    t += Δt\n",
    "    \n",
    "    append!(timp,t)\n",
    "    for (i,sysi) in enumerate(sys)\n",
    "        append!(track[i],copy(Elements.position(sysi)))\n",
    "        append!(imp[i],Elements.impulse(sysi))\n",
    "    end\n",
    "    \n",
    "end\n",
    "final_sys = sys;"
   ]
  },
  {
   "cell_type": "markdown",
   "metadata": {},
   "source": [
    "### Plotting the system\n",
    "The plot command is a bit slow the first time you run it. It's much faster after that..."
   ]
  },
  {
   "cell_type": "code",
   "execution_count": null,
   "metadata": {},
   "outputs": [],
   "source": [
    "plot(ratio=1,legend=:none,xlims = (-2,2), ylims = (-2,2), markerstrokewidth=0, markersize=3, tickfont=tkfont)\n",
    "\n",
    "# This plots patch number 1. The marker_z option gives the patch a distinct color.\n",
    "plot!(final_sys[1],markerstrokewidth=0, markersize=3, marker_z = -1)\n",
    "\n",
    "# This plots patch number 2\n",
    "plot!(final_sys[2],markerstrokewidth=0, markersize=3, marker_z = 1)\n",
    "\n",
    "# If you want to save a figure, you can use the savefig function\n",
    "#savefig(\"FigName.pdf\") "
   ]
  },
  {
   "cell_type": "markdown",
   "metadata": {},
   "source": [
    "### Plotting the pathlines of the vortex elements"
   ]
  },
  {
   "cell_type": "markdown",
   "metadata": {},
   "source": [
    "Below we define a function that allows us to pick off the trajectory of a certain point vortex from ther collected `track` array. We specify it by its patch number and its ID number in the patch"
   ]
  },
  {
   "cell_type": "code",
   "execution_count": null,
   "metadata": {},
   "outputs": [],
   "source": [
    "trajectory(track,patch::Int,elementID::Int) =  elementID <= length(sys[patch]) ? track[patch][elementID:length(sys[patch]):end] : error(\"Element ID out of range\")"
   ]
  },
  {
   "cell_type": "markdown",
   "metadata": {},
   "source": [
    "Let us plot the trajectory of one point vortex:"
   ]
  },
  {
   "cell_type": "code",
   "execution_count": null,
   "metadata": {},
   "outputs": [],
   "source": [
    "ps = plot(ratio=1,legend=:none,xlims = (-3,3), ylims = (-2,2));\n",
    "patch = 1\n",
    "elementID = 1\n",
    "traj = trajectory(track,patch,elementID)\n",
    "plot!(ps,real.(traj),imag.(traj));\n",
    "plot!(ps,final_sys[patch][elementID:elementID])"
   ]
  },
  {
   "cell_type": "markdown",
   "metadata": {},
   "source": [
    "### Plotting the impulses"
   ]
  },
  {
   "cell_type": "code",
   "execution_count": null,
   "metadata": {},
   "outputs": [],
   "source": [
    "plot(imag.(imp[1])/Γ0,real.(imp[1])/Γ0,ratio=1)\n",
    "plot!(imag.(imp[2])/Γ0,real.(imp[2])/Γ0,ratio=1)"
   ]
  },
  {
   "cell_type": "markdown",
   "metadata": {},
   "source": [
    "#### Distance between patch centroids"
   ]
  },
  {
   "cell_type": "code",
   "execution_count": null,
   "metadata": {},
   "outputs": [],
   "source": [
    "tkfont = Plots.font(\"Times New Roman\",12)\n",
    "plot(xlim=(0,6π),ylim=(0,1.5),xticks=(0:2π:6π,[\"0\",\"2π\",\"4π\",\"6π\"]),tickfont=tkfont,legend=:false)\n",
    "plot!(Γ0*timp/d0^2,abs.(imp[1]-imp[2])/(2π),linewidth=2)\n",
    "#savefig(\"CoRotateDCentroid.pdf\")"
   ]
  },
  {
   "cell_type": "code",
   "execution_count": null,
   "metadata": {},
   "outputs": [],
   "source": []
  }
 ],
 "metadata": {
  "kernelspec": {
   "display_name": "Julia 1.0.3",
   "language": "julia",
   "name": "julia-1.0"
  },
  "language_info": {
   "file_extension": ".jl",
   "mimetype": "application/julia",
   "name": "julia",
   "version": "1.0.3"
  }
 },
 "nbformat": 4,
 "nbformat_minor": 2
}

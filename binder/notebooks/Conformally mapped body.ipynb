{
 "cells": [
  {
   "cell_type": "markdown",
   "metadata": {},
   "source": [
    "# Conformally mapped body"
   ]
  },
  {
   "cell_type": "code",
   "execution_count": 1,
   "metadata": {},
   "outputs": [
    {
     "name": "stderr",
     "output_type": "stream",
     "text": [
      "\u001b[1m\u001b[36mINFO: \u001b[39m\u001b[22m\u001b[36mPrecompiling module PotentialFlow.\n",
      "\u001b[39mfatal: error thrown and no exception handler available.\n",
      "Base.MethodError(f=typeof(Core.Inference.convert)(), args=(Base.AssertionError, \"invalid age range update\"), world=0x0000000000000ac6)\n",
      "rec_backtrace at /Users/osx/buildbot/slave/package_osx64/build/src/stackwalk.c:84\n",
      "record_backtrace at /Users/osx/buildbot/slave/package_osx64/build/src/task.c:245 [inlined]\n",
      "jl_throw at /Users/osx/buildbot/slave/package_osx64/build/src/task.c:564\n",
      "jl_method_error_bare at /Users/osx/buildbot/slave/package_osx64/build/src/gf.c:1471\n",
      "jl_method_error at /Users/osx/buildbot/slave/package_osx64/build/src/gf.c:1489\n",
      "jl_lookup_generic_ at /Users/osx/buildbot/slave/package_osx64/build/src/gf.c:1903\n",
      "jl_apply_generic at /Users/osx/buildbot/slave/package_osx64/build/src/gf.c:1923\n",
      "Type at ./coreimg.jl:14\n",
      "update_valid_age! at ./inference.jl:2353\n",
      "add_backedge! at ./inference.jl:2366\n",
      "abstract_call_gf_by_type at ./inference.jl:1421\n",
      "jlcall_abstract_call_gf_by_type_659 at /usr/local/lib/julia/sys.dylib (unknown line)\n",
      "abstract_call at ./inference.jl:1897\n",
      "jlcall_abstract_call_562 at /usr/local/lib/julia/sys.dylib (unknown line)\n",
      "abstract_eval_call at ./inference.jl:1927\n",
      "abstract_eval at ./inference.jl:1950\n",
      "jlcall_abstract_eval_512 at /usr/local/lib/julia/sys.dylib (unknown line)\n",
      "typeinf_work at ./inference.jl:2722\n",
      "typeinf at ./inference.jl:2787\n",
      "typeinf_edge at ./inference.jl:2535\n",
      "jlcall_typeinf_edge_711 at /usr/local/lib/julia/sys.dylib (unknown line)\n",
      "abstract_call_gf_by_type at ./inference.jl:1420\n",
      "jlcall_abstract_call_gf_by_type_659 at /usr/local/lib/julia/sys.dylib (unknown line)\n",
      "abstract_call at ./inference.jl:1897\n",
      "jlcall_abstract_call_562 at /usr/local/lib/julia/sys.dylib (unknown line)\n",
      "abstract_eval_call at ./inference.jl:1927\n",
      "abstract_eval at ./inference.jl:1950\n",
      "jlcall_abstract_eval_512 at /usr/local/lib/julia/sys.dylib (unknown line)\n",
      "typeinf_work at ./inference.jl:2722\n",
      "typeinf at ./inference.jl:2787\n",
      "typeinf_edge at ./inference.jl:2535\n",
      "jlcall_typeinf_edge_711 at /usr/local/lib/julia/sys.dylib (unknown line)\n",
      "abstract_call_gf_by_type at ./inference.jl:1420\n",
      "jlcall_abstract_call_gf_by_type_659 at /usr/local/lib/julia/sys.dylib (unknown line)\n",
      "abstract_call at ./inference.jl:1897\n",
      "jlcall_abstract_call_562 at /usr/local/lib/julia/sys.dylib (unknown line)\n",
      "abstract_eval_call at ./inference.jl:1927\n",
      "abstract_eval at ./inference.jl:1950\n",
      "jlcall_abstract_eval_512 at /usr/local/lib/julia/sys.dylib (unknown line)\n",
      "typeinf_work at ./inference.jl:2722\n",
      "typeinf at ./inference.jl:2787\n",
      "typeinf_edge at ./inference.jl:2535\n",
      "jlcall_typeinf_edge_711 at /usr/local/lib/julia/sys.dylib (unknown line)\n",
      "abstract_call_gf_by_type at ./inference.jl:1420\n",
      "jlcall_abstract_call_gf_by_type_659 at /usr/local/lib/julia/sys.dylib (unknown line)\n",
      "abstract_call at ./inference.jl:1897\n",
      "jlcall_abstract_call_562 at /usr/local/lib/julia/sys.dylib (unknown line)\n",
      "abstract_eval_call at ./inference.jl:1927\n",
      "abstract_eval at ./inference.jl:1950\n",
      "jlcall_abstract_eval_512 at /usr/local/lib/julia/sys.dylib (unknown line)\n",
      "typeinf_work at ./inference.jl:2722\n",
      "typeinf at ./inference.jl:2787\n",
      "typeinf_edge at ./inference.jl:2535\n",
      "jlcall_typeinf_edge_711 at /usr/local/lib/julia/sys.dylib (unknown line)\n",
      "abstract_call_gf_by_type at ./inference.jl:1420\n",
      "jlcall_abstract_call_gf_by_type_659 at /usr/local/lib/julia/sys.dylib (unknown line)\n",
      "abstract_call at ./inference.jl:1897\n",
      "jlcall_abstract_call_562 at /usr/local/lib/julia/sys.dylib (unknown line)\n",
      "abstract_eval_call at ./inference.jl:1927\n",
      "abstract_eval at ./inference.jl:1950\n",
      "jlcall_abstract_eval_512 at /usr/local/lib/julia/sys.dylib (unknown line)\n",
      "typeinf_work at ./inference.jl:2722\n",
      "typeinf at ./inference.jl:2787\n",
      "typeinf_edge at ./inference.jl:2535\n",
      "jlcall_typeinf_edge_711 at /usr/local/lib/julia/sys.dylib (unknown line)\n",
      "abstract_call_gf_by_type at ./inference.jl:1420\n",
      "jlcall_abstract_call_gf_by_type_659 at /usr/local/lib/julia/sys.dylib (unknown line)\n",
      "abstract_call at ./inference.jl:1897\n",
      "jlcall_abstract_call_562 at /usr/local/lib/julia/sys.dylib (unknown line)\n",
      "abstract_eval_call at ./inference.jl:1927\n",
      "abstract_eval at ./inference.jl:1950\n",
      "jlcall_abstract_eval_512 at /usr/local/lib/julia/sys.dylib (unknown line)\n",
      "typeinf_work at ./inference.jl:2722\n",
      "typeinf at ./inference.jl:2787\n",
      "typeinf_edge at ./inference.jl:2535\n",
      "jlcall_typeinf_edge_711 at /usr/local/lib/julia/sys.dylib (unknown line)\n",
      "abstract_call_gf_by_type at ./inference.jl:1420\n",
      "jlcall_abstract_call_gf_by_type_659 at /usr/local/lib/julia/sys.dylib (unknown line)\n",
      "abstract_call at ./inference.jl:1897\n",
      "jlcall_abstract_call_562 at /usr/local/lib/julia/sys.dylib (unknown line)\n",
      "abstract_eval_call at ./inference.jl:1927\n",
      "abstract_eval at ./inference.jl:1950\n",
      "jlcall_abstract_eval_512 at /usr/local/lib/julia/sys.dylib (unknown line)\n",
      "abstract_interpret at ./inference.jl:2076\n",
      "jlcall_abstract_interpret_511 at /usr/local/lib/julia/sys.dylib (unknown line)\n",
      "typeinf_work at ./inference.jl:2669\n",
      "typeinf at ./inference.jl:2787\n",
      "typeinf_edge at ./inference.jl:2535\n",
      "jlcall_typeinf_edge_711 at /usr/local/lib/julia/sys.dylib (unknown line)\n",
      "abstract_call_gf_by_type at ./inference.jl:1420\n",
      "jlcall_abstract_call_gf_by_type_659 at /usr/local/lib/julia/sys.dylib (unknown line)\n",
      "abstract_call at ./inference.jl:1897\n",
      "jlcall_abstract_call_562 at /usr/local/lib/julia/sys.dylib (unknown line)\n",
      "abstract_eval_call at ./inference.jl:1927\n",
      "abstract_eval at ./inference.jl:1950\n",
      "#189 at ./<missing>:0\n",
      "next at ./generator.jl:45\n",
      "copy! at ./abstractarray.jl:573\n",
      "_collect at ./array.jl:396\n",
      "collect at ./array.jl:393\n",
      "abstract_eval_call at ./inference.jl:1901\n",
      "abstract_eval at ./inference.jl:1950\n",
      "jlcall_abstract_eval_512 at /usr/local/lib/julia/sys.dylib (unknown line)\n",
      "typeinf_work at ./inference.jl:2722\n",
      "typeinf at ./inference.jl:2787\n",
      "typeinf_edge at ./inference.jl:2535\n",
      "jlcall_typeinf_edge_711 at /usr/local/lib/julia/sys.dylib (unknown line)\n",
      "abstract_call_gf_by_type at ./inference.jl:1420\n",
      "jlcall_abstract_call_gf_by_type_659 at /usr/local/lib/julia/sys.dylib (unknown line)\n",
      "abstract_call at ./inference.jl:1897\n",
      "jlcall_abstract_call_562 at /usr/local/lib/julia/sys.dylib (unknown line)\n",
      "abstract_eval_call at ./inference.jl:1927\n",
      "abstract_eval at ./inference.jl:1950\n",
      "jlcall_abstract_eval_512 at /usr/local/lib/julia/sys.dylib (unknown line)\n",
      "abstract_interpret at ./inference.jl:2087\n",
      "jlcall_abstract_interpret_511 at /usr/local/lib/julia/sys.dylib (unknown line)\n",
      "typeinf_work at ./inference.jl:2669\n",
      "typeinf at ./inference.jl:2787\n",
      "typeinf_edge at ./inference.jl:2535\n",
      "jlcall_typeinf_edge_711 at /usr/local/lib/julia/sys.dylib (unknown line)\n",
      "abstract_call_gf_by_type at ./inference.jl:1420\n",
      "jlcall_abstract_call_gf_by_type_659 at /usr/local/lib/julia/sys.dylib (unknown line)\n",
      "abstract_call at ./inference.jl:1897\n",
      "jlcall_abstract_call_562 at /usr/local/lib/julia/sys.dylib (unknown line)\n",
      "abstract_eval_call at ./inference.jl:1927\n",
      "abstract_eval at ./inference.jl:1950\n",
      "jlcall_abstract_eval_512 at /usr/local/lib/julia/sys.dylib (unknown line)\n",
      "typeinf_work at ./inference.jl:2722\n",
      "typeinf at ./inference.jl:2787\n",
      "typeinf_edge at ./inference.jl:2535\n",
      "jlcall_typeinf_edge_711 at /usr/local/lib/julia/sys.dylib (unknown line)\n",
      "abstract_call_gf_by_type at ./inference.jl:1420\n",
      "jlcall_abstract_call_gf_by_type_659 at /usr/local/lib/julia/sys.dylib (unknown line)\n",
      "abstract_call at ./inference.jl:1897\n",
      "jlcall_abstract_call_562 at /usr/local/lib/julia/sys.dylib (unknown line)\n",
      "abstract_eval_call at ./inference.jl:1927\n",
      "abstract_eval at ./inference.jl:1950\n",
      "#189 at ./<missing>:0\n",
      "next at ./generator.jl:45\n",
      "copy! at ./abstractarray.jl:573\n",
      "_collect at ./array.jl:396\n",
      "collect at ./array.jl:393\n",
      "abstract_eval_call at ./inference.jl:1901\n",
      "abstract_eval at ./inference.jl:1950\n",
      "abstract_interpret at ./inference.jl:2084\n",
      "jlcall_abstract_interpret_511 at /usr/local/lib/julia/sys.dylib (unknown line)\n",
      "typeinf_work at ./inference.jl:2669\n",
      "typeinf at ./inference.jl:2787\n",
      "typeinf_edge at ./inference.jl:2535\n",
      "jlcall_typeinf_edge_711 at /usr/local/lib/julia/sys.dylib (unknown line)\n",
      "abstract_call_gf_by_type at ./inference.jl:1420\n",
      "jlcall_abstract_call_gf_by_type_659 at /usr/local/lib/julia/sys.dylib (unknown line)\n",
      "abstract_call at ./inference.jl:1897\n",
      "jlcall_abstract_call_562 at /usr/local/lib/julia/sys.dylib (unknown line)\n",
      "abstract_eval_call at ./inference.jl:1927\n",
      "abstract_eval at ./inference.jl:1950\n",
      "jlcall_abstract_eval_512 at /usr/local/lib/julia/sys.dylib (unknown line)\n",
      "typeinf_work at ./inference.jl:2722\n",
      "typeinf at ./inference.jl:2787\n",
      "typeinf_frame at ./inference.jl:2504\n",
      "typeinf_code at ./inference.jl:2583\n",
      "jlcall_typeinf_code_950 at /usr/local/lib/julia/sys.dylib (unknown line)\n",
      "typeinf_ext at ./inference.jl:2622\n",
      "jlcall_typeinf_ext_0 at /usr/local/lib/julia/sys.dylib (unknown line)\n",
      "jl_apply at /Users/osx/buildbot/slave/package_osx64/build/src/./julia.h:1424 [inlined]\n",
      "jl_apply_with_saved_exception_state at /Users/osx/buildbot/slave/package_osx64/build/src/rtutils.c:257\n",
      "jl_type_infer at /Users/osx/buildbot/slave/package_osx64/build/src/gf.c:262\n",
      "jl_compile_for_dispatch at /Users/osx/buildbot/slave/package_osx64/build/src/gf.c:1661\n",
      "jl_compile_method_internal at /Users/osx/buildbot/slave/package_osx64/build/src/./julia_internal.h:307 [inlined]\n",
      "jl_call_method_internal at /Users/osx/buildbot/slave/package_osx64/build/src/./julia_internal.h:354 [inlined]\n",
      "jl_apply_generic at /Users/osx/buildbot/slave/package_osx64/build/src/gf.c:1926\n",
      "do_call at /Users/osx/buildbot/slave/package_osx64/build/src/interpreter.c:75\n",
      "eval at /Users/osx/buildbot/slave/package_osx64/build/src/interpreter.c:242\n",
      "eval_body at /Users/osx/buildbot/slave/package_osx64/build/src/interpreter.c:539\n",
      "jl_toplevel_eval_body at /Users/osx/buildbot/slave/package_osx64/build/src/interpreter.c:511\n",
      "jl_toplevel_eval_flex at /Users/osx/buildbot/slave/package_osx64/build/src/toplevel.c:571\n",
      "jl_toplevel_eval_in at /Users/osx/buildbot/slave/package_osx64/build/src/builtins.c:496\n",
      "eval at ./boot.jl:235\n",
      "jlcall_eval_18042 at /usr/local/lib/julia/sys.dylib (unknown line)\n",
      "_start at ./client.jl:417\n",
      "jlcall__start_18909 at /usr/local/lib/julia/sys.dylib (unknown line)\n",
      "true_main at /usr/local/bin/julia (unknown line)\n",
      "main at /usr/local/bin/julia (unknown line)\n"
     ]
    },
    {
     "name": "stderr",
     "output_type": "stream",
     "text": [
      "MethodError(Core.Inference.convert, (AssertionError, \"invalid age range update\"), 0x0000000000000ac6)\n"
     ]
    },
    {
     "ename": "LoadError",
     "evalue": "\u001b[91mFailed to precompile PotentialFlow to /Users/jeff/.julia/lib/v0.6/PotentialFlow.ji.\u001b[39m",
     "output_type": "error",
     "traceback": [
      "\u001b[91mFailed to precompile PotentialFlow to /Users/jeff/.julia/lib/v0.6/PotentialFlow.ji.\u001b[39m",
      "",
      "Stacktrace:",
      " [1] \u001b[1mcompilecache\u001b[22m\u001b[22m\u001b[1m(\u001b[22m\u001b[22m::String\u001b[1m)\u001b[22m\u001b[22m at \u001b[1m./loading.jl:710\u001b[22m\u001b[22m",
      " [2] \u001b[1m_require\u001b[22m\u001b[22m\u001b[1m(\u001b[22m\u001b[22m::Symbol\u001b[1m)\u001b[22m\u001b[22m at \u001b[1m./loading.jl:497\u001b[22m\u001b[22m",
      " [3] \u001b[1mrequire\u001b[22m\u001b[22m\u001b[1m(\u001b[22m\u001b[22m::Symbol\u001b[1m)\u001b[22m\u001b[22m at \u001b[1m./loading.jl:405\u001b[22m\u001b[22m",
      " [4] \u001b[1minclude_string\u001b[22m\u001b[22m\u001b[1m(\u001b[22m\u001b[22m::String, ::String\u001b[1m)\u001b[22m\u001b[22m at \u001b[1m./loading.jl:522\u001b[22m\u001b[22m"
     ]
    }
   ],
   "source": [
    "using PotentialFlow"
   ]
  },
  {
   "cell_type": "markdown",
   "metadata": {},
   "source": [
    "## Set up"
   ]
  },
  {
   "cell_type": "markdown",
   "metadata": {},
   "source": [
    "Create a body shape from a power series conformal map"
   ]
  },
  {
   "cell_type": "code",
   "execution_count": 2,
   "metadata": {},
   "outputs": [
    {
     "ename": "LoadError",
     "evalue": "\u001b[91mUndefVarError: Bodies not defined\u001b[39m",
     "output_type": "error",
     "traceback": [
      "\u001b[91mUndefVarError: Bodies not defined\u001b[39m",
      "",
      "Stacktrace:",
      " [1] \u001b[1minclude_string\u001b[22m\u001b[22m\u001b[1m(\u001b[22m\u001b[22m::String, ::String\u001b[1m)\u001b[22m\u001b[22m at \u001b[1m./loading.jl:522\u001b[22m\u001b[22m"
     ]
    }
   ],
   "source": [
    "a1 = 1; b1 = 0; ccoeff = Complex128[0.5(a1+b1),0,0.5(a1-b1)]\n",
    "b = Bodies.ConformalBody(ccoeff)"
   ]
  },
  {
   "cell_type": "code",
   "execution_count": 9,
   "metadata": {},
   "outputs": [
    {
     "data": {
      "text/plain": [
       "Body generated by: Schwarz-Christoffel map of unit circle to exterior of polygon with 12 vertices\n",
       "\n",
       "  centroid at 0.0 + 0.0im\n",
       "  angle 0.0\n"
      ]
     },
     "execution_count": 9,
     "metadata": {},
     "output_type": "execute_result"
    }
   ],
   "source": [
    "n = 6; dθ = 2π/(2n)\n",
    "θ = collect(0:dθ:2π-dθ)\n",
    "w = (1+0.3cos.(n*θ)).*exp.(im*θ)\n",
    "p = Bodies.Polygon(w)\n",
    "b = Bodies.ConformalBody(p)"
   ]
  },
  {
   "cell_type": "code",
   "execution_count": 3,
   "metadata": {},
   "outputs": [],
   "source": [
    "using Plots\n",
    "clibrary(:colorbrewer)\n",
    "default(grid = false)"
   ]
  },
  {
   "cell_type": "code",
   "execution_count": 4,
   "metadata": {},
   "outputs": [
    {
     "data": {
      "image/png": "[encoded data removed]"
     },
     "execution_count": 4,
     "metadata": {},
     "output_type": "execute_result"
    }
   ],
   "source": [
    "plot(b,fillcolor=:grey,linecolor=:grey)"
   ]
  },
  {
   "cell_type": "code",
   "execution_count": 112,
   "metadata": {},
   "outputs": [
    {
     "data": {
      "text/plain": [
       "Plate: N = 256, L = 2.0, c = 0.0 + 0.0im, α = 45.0ᵒ\n",
       "       LESP = 0.0, TESP = 0.0"
      ]
     },
     "execution_count": 112,
     "metadata": {},
     "output_type": "execute_result"
    }
   ],
   "source": [
    "plate = Plates.Plate(256,2.0,Complex128(0),π/4)"
   ]
  },
  {
   "cell_type": "code",
   "execution_count": 29,
   "metadata": {},
   "outputs": [
    {
     "data": {
      "text/plain": [
       "Body generated by: Schwarz-Christoffel map of unit circle to exterior of polygon with 4 vertices\n",
       "\n",
       "  centroid at 0.0 + 0.0im\n",
       "  angle 0.0\n"
      ]
     },
     "execution_count": 29,
     "metadata": {},
     "output_type": "execute_result"
    }
   ],
   "source": [
    "p = Bodies.Polygon([-1.0,1.0,1.0,-1.0],[-1.0,-1.0,1.0,1.0])\n",
    "b = Bodies.ConformalBody(p)"
   ]
  },
  {
   "cell_type": "code",
   "execution_count": 41,
   "metadata": {},
   "outputs": [
    {
     "data": {
      "text/plain": [
       "(0.0 + 0.0im, 0.0 + 0.375im)"
      ]
     },
     "execution_count": 41,
     "metadata": {},
     "output_type": "execute_result"
    }
   ],
   "source": [
    "sys = (Vortex.Point(1.0im, π), Vortex.Blob(2.0im, -π, 0.1));\n",
    "b = Bodies.ConformalBody(Complex128[1/4,0,1/4]);\n",
    "Elements.conftransform(sys,b)"
   ]
  },
  {
   "cell_type": "code",
   "execution_count": 44,
   "metadata": {},
   "outputs": [
    {
     "data": {
      "text/plain": [
       "(0.5 + 0.0im, 0.0 + 0.5im)"
      ]
     },
     "execution_count": 44,
     "metadata": {},
     "output_type": "execute_result"
    }
   ],
   "source": [
    "dz, ddz = b.dm(1.0im)"
   ]
  },
  {
   "cell_type": "code",
   "execution_count": 10,
   "metadata": {},
   "outputs": [],
   "source": [
    "ċ = 0.0im\n",
    "motion = RigidBodyMotion(ċ, 1.0);"
   ]
  },
  {
   "cell_type": "code",
   "execution_count": 11,
   "metadata": {},
   "outputs": [
    {
     "data": {
      "text/plain": [
       "1.0"
      ]
     },
     "execution_count": 11,
     "metadata": {},
     "output_type": "execute_result"
    }
   ],
   "source": [
    "Δt = 1.0;\n",
    "b₊ = deepcopy(b)\n",
    "advect!(b₊,b,motion,Δt)\n",
    "b₊.α"
   ]
  },
  {
   "cell_type": "code",
   "execution_count": 46,
   "metadata": {},
   "outputs": [
    {
     "data": {
      "text/plain": [
       "3-element Array{PotentialFlow.Points.Point{Float64},1}:\n",
       " Vortex.Point(0.0 + 1.1im, 1.0) \n",
       " Vortex.Point(-2.3 - 1.0im, 1.0)\n",
       " Vortex.Point(0.0 + 5.3im, 1.0) "
      ]
     },
     "execution_count": 46,
     "metadata": {},
     "output_type": "execute_result"
    }
   ],
   "source": [
    "vp1 = Vortex.Point.([1.1im,-2.3-1.0im,5.3im], 1.0)"
   ]
  },
  {
   "cell_type": "code",
   "execution_count": 47,
   "metadata": {},
   "outputs": [
    {
     "data": {
      "text/plain": [
       "3-element Array{PotentialFlow.Points.Point{Float64},1}:\n",
       " Vortex.Point(1.3 + 0.0im, -1.0) \n",
       " Vortex.Point(-3.1 - 1.0im, -1.0)\n",
       " Vortex.Point(0.0 + 3.3im, -1.0) "
      ]
     },
     "execution_count": 47,
     "metadata": {},
     "output_type": "execute_result"
    }
   ],
   "source": [
    "vp2 = Vortex.Point.([1.3,-3.1-1.0im,3.3im], -1.0)"
   ]
  },
  {
   "cell_type": "code",
   "execution_count": 53,
   "metadata": {},
   "outputs": [],
   "source": [
    "Bodies.enforce_no_flow_through!(b,motion,Vortex.Point[],0.0)"
   ]
  },
  {
   "cell_type": "code",
   "execution_count": 49,
   "metadata": {},
   "outputs": [
    {
     "data": {
      "text/plain": [
       "(Body generated by: Power series map\n",
       "\n",
       "  centroid at 0.0 + 0.0im\n",
       "  angle 0.0\n",
       ", PotentialFlow.Points.Point{Float64}[Vortex.Point(0.0 + 1.1im, 1.0), Vortex.Point(-2.3 - 1.0im, 1.0), Vortex.Point(0.0 + 5.3im, 1.0)], PotentialFlow.Points.Point{Float64}[Vortex.Point(1.3 + 0.0im, -1.0), Vortex.Point(-3.1 - 1.0im, -1.0), Vortex.Point(0.0 + 3.3im, -1.0)])"
      ]
     },
     "execution_count": 49,
     "metadata": {},
     "output_type": "execute_result"
    }
   ],
   "source": [
    "sys = (b,vp1,vp2)"
   ]
  },
  {
   "cell_type": "code",
   "execution_count": 54,
   "metadata": {},
   "outputs": [
    {
     "data": {
      "image/png": "[encoded data removed]"
     },
     "execution_count": 54,
     "metadata": {},
     "output_type": "execute_result"
    }
   ],
   "source": [
    "streamlines(-4:0.1:4, -3:0.1:3, b, clim = (-3, 3), levels = collect(-3:0.3:3), color = cgrad([\"#efefef\", \"#efefef\"]))\n",
    "plot!(b)"
   ]
  },
  {
   "cell_type": "markdown",
   "metadata": {},
   "source": [
    "Test the no-penetration condition at points on the body"
   ]
  },
  {
   "cell_type": "code",
   "execution_count": 8,
   "metadata": {},
   "outputs": [
    {
     "data": {
      "text/plain": [
       "4.882188713933115e-17"
      ]
     },
     "execution_count": 8,
     "metadata": {},
     "output_type": "execute_result"
    }
   ],
   "source": [
    "ζ = exp(-im*π/4)\n",
    "dz, ddz = b.dm(ζ)\n",
    "sys = (b,vp1,vp2)\n",
    "Bodies.normal(ζ,induce_velocity(ζ,sys,0)/conj(dz)-ċ,b)"
   ]
  },
  {
   "cell_type": "code",
   "execution_count": 10,
   "metadata": {},
   "outputs": [
    {
     "name": "stdout",
     "output_type": "stream",
     "text": [
      "(Vortex.Point(2.3 + 0.0im, 1.0), Vortex.Point(0.4347826086956522 + 0.0im, -1.0))\n"
     ]
    },
    {
     "data": {
      "text/plain": [
       "-0.1265897223663215"
      ]
     },
     "execution_count": 10,
     "metadata": {},
     "output_type": "execute_result"
    }
   ],
   "source": [
    "z = Complex128(-1.1)\n",
    "streamfunction(z,b,vp,0.0)"
   ]
  },
  {
   "cell_type": "code",
   "execution_count": 101,
   "metadata": {},
   "outputs": [],
   "source": [
    "w = SchwarzChristoffel.naca4(0.1,0.4,0.12;len=2)\n",
    "p = Bodies.Polygon(w);"
   ]
  },
  {
   "cell_type": "code",
   "execution_count": 17,
   "metadata": {},
   "outputs": [],
   "source": [
    "ċ = 1.0\n",
    "motion = RigidBodyMotion(ċ, 0.0);"
   ]
  },
  {
   "cell_type": "code",
   "execution_count": 18,
   "metadata": {},
   "outputs": [],
   "source": [
    "Bodies.enforce_no_flow_through!(b,motion,(vp1,vp2),0.0)"
   ]
  },
  {
   "cell_type": "code",
   "execution_count": 21,
   "metadata": {},
   "outputs": [
    {
     "data": {
      "text/plain": [
       "-4.864657457382513e-17"
      ]
     },
     "execution_count": 21,
     "metadata": {},
     "output_type": "execute_result"
    }
   ],
   "source": [
    "ζ = exp(im*π/4)\n",
    "dz, ddz = b.dm(ζ)\n",
    "sys = (b,vp1,vp2)\n",
    "real((induce_velocity(ζ,sys,0)/conj(dz)-ċ)*conj(ζ*dz)/abs(dz))"
   ]
  },
  {
   "cell_type": "code",
   "execution_count": 20,
   "metadata": {},
   "outputs": [
    {
     "data": {
      "text/plain": [
       "0.28470959943201263 - 1.315380004696449im"
      ]
     },
     "execution_count": 20,
     "metadata": {},
     "output_type": "execute_result"
    }
   ],
   "source": [
    "induce_velocity(ζ,sys,0)"
   ]
  },
  {
   "cell_type": "code",
   "execution_count": 12,
   "metadata": {},
   "outputs": [
    {
     "data": {
      "text/plain": [
       "0.014405876191776143"
      ]
     },
     "execution_count": 12,
     "metadata": {},
     "output_type": "execute_result"
    }
   ],
   "source": [
    "streamfunction(z,b)"
   ]
  },
  {
   "cell_type": "code",
   "execution_count": 13,
   "metadata": {},
   "outputs": [
    {
     "data": {
      "text/plain": [
       "3-element Array{Float64,1}:\n",
       " 0.0144059 \n",
       " 0.233941  \n",
       " 0.00515583"
      ]
     },
     "execution_count": 13,
     "metadata": {},
     "output_type": "execute_result"
    }
   ],
   "source": [
    "z = Complex128[-1.1,2.0+2.0im,3.0-0.2im]\n",
    "streamfunction(z,b)"
   ]
  },
  {
   "cell_type": "code",
   "execution_count": 45,
   "metadata": {},
   "outputs": [
    {
     "name": "stdout",
     "output_type": "stream",
     "text": [
      "8.0\n"
     ]
    },
    {
     "ename": "LoadError",
     "evalue": "\u001b[91mUndefVarError: b not defined\u001b[39m",
     "output_type": "error",
     "traceback": [
      "\u001b[91mUndefVarError: b not defined\u001b[39m",
      "",
      "Stacktrace:",
      " [1] \u001b[1m#plot_streamlines#9\u001b[22m\u001b[22m\u001b[1m(\u001b[22m\u001b[22m::Float64, ::Function, ::Tuple{PotentialFlow.Bodies.ConformalBody,Array{PotentialFlow.Points.Point{Float64},1},Array{PotentialFlow.Points.Point{Float64},1}}\u001b[1m)\u001b[22m\u001b[22m at \u001b[1m/Users/jeff/.julia/v0.6/BookExamples/src/BookExamples.jl:274\u001b[22m\u001b[22m",
      " [2] \u001b[1m(::BookExamples.#kw##plot_streamlines)\u001b[22m\u001b[22m\u001b[1m(\u001b[22m\u001b[22m::Array{Any,1}, ::BookExamples.#plot_streamlines, ::Tuple{PotentialFlow.Bodies.ConformalBody,Array{PotentialFlow.Points.Point{Float64},1},Array{PotentialFlow.Points.Point{Float64},1}}\u001b[1m)\u001b[22m\u001b[22m at \u001b[1m./<missing>:0\u001b[22m\u001b[22m",
      " [3] \u001b[1minclude_string\u001b[22m\u001b[22m\u001b[1m(\u001b[22m\u001b[22m::String, ::String\u001b[1m)\u001b[22m\u001b[22m at \u001b[1m./loading.jl:522\u001b[22m\u001b[22m"
     ]
    }
   ],
   "source": [
    "plot_streamlines(sys;scalefactor=4.0)"
   ]
  },
  {
   "cell_type": "code",
   "execution_count": 27,
   "metadata": {},
   "outputs": [
    {
     "data": {
      "image/png": "[encoded data removed]",
      "text/plain": [
       "PyPlot.Figure(PyObject <matplotlib.figure.Figure object at 0x128eec610>)"
      ]
     },
     "metadata": {},
     "output_type": "display_data"
    }
   ],
   "source": [
    "SchwarzChristoffel.plot(p)"
   ]
  },
  {
   "cell_type": "code",
   "execution_count": 15,
   "metadata": {},
   "outputs": [
    {
     "data": {
      "text/plain": [
       "0.0"
      ]
     },
     "execution_count": 15,
     "metadata": {},
     "output_type": "execute_result"
    }
   ],
   "source": [
    "b.α̇"
   ]
  },
  {
   "cell_type": "code",
   "execution_count": 84,
   "metadata": {},
   "outputs": [
    {
     "data": {
      "text/plain": [
       "(Body generated by: Schwarz-Christoffel map of unit circle to exterior of polygon with 12 vertices\n",
       "\n",
       "  centroid at 0.0 + 0.0im\n",
       "  angle 0.0\n",
       ", PotentialFlow.Points.Point{Float64}[Vortex.Point(0.0 + 1.1im, 1.0), Vortex.Point(-2.3 - 1.0im, 1.0), Vortex.Point(0.0 + 5.3im, 1.0)], PotentialFlow.Points.Point{Float64}[Vortex.Point(1.3 + 0.0im, -1.0), Vortex.Point(-3.1 - 1.0im, -1.0), Vortex.Point(0.0 + 3.3im, -1.0)])"
      ]
     },
     "execution_count": 84,
     "metadata": {},
     "output_type": "execute_result"
    }
   ],
   "source": [
    "sys = (b,vp1,vp2)"
   ]
  },
  {
   "cell_type": "markdown",
   "metadata": {},
   "source": [
    "# Testing advection"
   ]
  },
  {
   "cell_type": "code",
   "execution_count": 64,
   "metadata": {},
   "outputs": [
    {
     "data": {
      "text/plain": [
       "compute_ẋ! (generic function with 1 method)"
      ]
     },
     "execution_count": 64,
     "metadata": {},
     "output_type": "execute_result"
    }
   ],
   "source": [
    "function compute_ẋ!(ẋ, x, t)\n",
    "    body, ambient_sys = x\n",
    "    motion = ẋ[1]\n",
    "    motion.ċ, motion.c̈, motion.α̇ = motion.kin(t)\n",
    "    \n",
    "    Bodies.enforce_no_flow_through!(body, motion, ambient_sys, t)\n",
    "    reset_velocity!(ẋ, x)\n",
    "    self_induce_velocity!(ẋ, x, t)\n",
    "    Bodies.transform_velocity!(ẋ, ẋ, x, body)\n",
    "end"
   ]
  },
  {
   "cell_type": "markdown",
   "metadata": {},
   "source": [
    "### Elliptical bodies"
   ]
  },
  {
   "cell_type": "code",
   "execution_count": 10,
   "metadata": {},
   "outputs": [
    {
     "data": {
      "text/plain": [
       "Body generated by: Power series map\n",
       "\n",
       "  centroid at 0.0 + 0.0im\n",
       "  angle 0.0\n"
      ]
     },
     "execution_count": 10,
     "metadata": {},
     "output_type": "execute_result"
    }
   ],
   "source": [
    "a1 = 1; b1 = 0.1; ccoeff = Complex128[0.5(a1+b1),0,0.5(a1-b1)]\n",
    "c = Complex128(0)\n",
    "α = 0.0;\n",
    "b = Bodies.ConformalBody(ccoeff,c,α)"
   ]
  },
  {
   "cell_type": "markdown",
   "metadata": {},
   "source": [
    "### Flat plate"
   ]
  },
  {
   "cell_type": "code",
   "execution_count": 82,
   "metadata": {},
   "outputs": [
    {
     "data": {
      "text/plain": [
       "Body generated by: Schwarz-Christoffel map of unit circle to exterior of polygon with 2 vertices\n",
       "\n",
       "  centroid at 0.0 + 0.0im\n",
       "  angle 0.0\n"
      ]
     },
     "execution_count": 82,
     "metadata": {},
     "output_type": "execute_result"
    }
   ],
   "source": [
    "p = Bodies.Polygon([-0.5,0.5],[0,0]);\n",
    "b = Bodies.ConformalBody(p)"
   ]
  },
  {
   "cell_type": "markdown",
   "metadata": {},
   "source": [
    "### Basic polygon"
   ]
  },
  {
   "cell_type": "code",
   "execution_count": 169,
   "metadata": {},
   "outputs": [
    {
     "data": {
      "text/plain": [
       "Body generated by: Schwarz-Christoffel map of unit circle to exterior of polygon with 4 vertices\n",
       "\n",
       "  centroid at 0.0 + 0.0im\n",
       "  angle 0.0\n"
      ]
     },
     "execution_count": 169,
     "metadata": {},
     "output_type": "execute_result"
    }
   ],
   "source": [
    "p = Bodies.Polygon([-1.0,1.0,0.8,-0.6],[-0.5,-0.5,0.5,0.5]);\n",
    "b = Bodies.ConformalBody(p)"
   ]
  },
  {
   "cell_type": "markdown",
   "metadata": {},
   "source": [
    "### Star-shaped bodies"
   ]
  },
  {
   "cell_type": "code",
   "execution_count": 99,
   "metadata": {},
   "outputs": [
    {
     "data": {
      "text/plain": [
       "Body generated by: Schwarz-Christoffel map of unit circle to exterior of polygon with 12 vertices\n",
       "\n",
       "  centroid at 0.0 + 0.0im\n",
       "  angle 0.0\n"
      ]
     },
     "execution_count": 99,
     "metadata": {},
     "output_type": "execute_result"
    }
   ],
   "source": [
    "n = 6; dθ = 2π/(2n)\n",
    "θ = collect(0:dθ:2π-dθ)\n",
    "w = (1+0.3cos.(n*θ)).*exp.(im*θ)\n",
    "p = Bodies.Polygon(w)\n",
    "b = Bodies.ConformalBody(p)"
   ]
  },
  {
   "cell_type": "markdown",
   "metadata": {},
   "source": [
    "### NACA airfoils"
   ]
  },
  {
   "cell_type": "code",
   "execution_count": 117,
   "metadata": {},
   "outputs": [
    {
     "data": {
      "text/plain": [
       "Body generated by: Schwarz-Christoffel map of unit circle to exterior of polygon with 39 vertices\n",
       "\n",
       "  centroid at 0.0 + 0.0im\n",
       "  angle 0.0\n"
      ]
     },
     "execution_count": 117,
     "metadata": {},
     "output_type": "execute_result"
    }
   ],
   "source": [
    "w = SchwarzChristoffel.naca4(0.1,0.4,0.12;len=1)\n",
    "p = Bodies.Polygon(w);\n",
    "b = Bodies.ConformalBody(p)"
   ]
  },
  {
   "cell_type": "markdown",
   "metadata": {},
   "source": [
    "### Set the motion of the body"
   ]
  },
  {
   "cell_type": "code",
   "execution_count": 100,
   "metadata": {},
   "outputs": [],
   "source": [
    "ċ = 0.0\n",
    "α̇ = 1.0\n",
    "Δt = 5e-3; # time step\n",
    "motion = RigidBodyMotion(ċ, α̇);"
   ]
  },
  {
   "cell_type": "markdown",
   "metadata": {},
   "source": [
    "### Set up initial vortices"
   ]
  },
  {
   "cell_type": "code",
   "execution_count": 128,
   "metadata": {},
   "outputs": [
    {
     "data": {
      "text/plain": [
       "1-element Array{PotentialFlow.Points.Point{Float64},1}:\n",
       " Vortex.Point(-1.4 + 0.0im, 1.0)"
      ]
     },
     "execution_count": 128,
     "metadata": {},
     "output_type": "execute_result"
    }
   ],
   "source": [
    "init_ω_z = Vortex.Point.([-1.4], 1.0)"
   ]
  },
  {
   "cell_type": "code",
   "execution_count": 129,
   "metadata": {},
   "outputs": [
    {
     "data": {
      "text/plain": [
       "1-element Array{Complex{Float64},1}:\n",
       " -1.4+0.0im"
      ]
     },
     "execution_count": 129,
     "metadata": {},
     "output_type": "execute_result"
    }
   ],
   "source": [
    "track = Complex128[]\n",
    "init_ω_ζ = inverse_conftransform(init_ω_z,b)\n",
    "sys = (b, init_ω_ζ)\n",
    "sys₊ = deepcopy(sys) # Used for storage during time-marching\n",
    "ẋs = [(motion, allocate_velocity(init_ω_ζ)) for k = 1:4];\n",
    "append!(track,Elements.position(init_ω_z))"
   ]
  },
  {
   "cell_type": "code",
   "execution_count": 132,
   "metadata": {},
   "outputs": [
    {
     "data": {
      "text/plain": [
       "1-element Array{PotentialFlow.Points.Point{Float64},1}:\n",
       " Vortex.Point(1.187965073940605 + 0.5445963531139862im, 1.0)"
      ]
     },
     "execution_count": 132,
     "metadata": {},
     "output_type": "execute_result"
    }
   ],
   "source": [
    "tf = 10\n",
    "T = 0:Δt:tf-Δt\n",
    "\n",
    "for t in T    \n",
    "    TimeMarching.rk4!(sys₊, sys, t, Δt, compute_ẋ!, advect!, ẋs)\n",
    "    \n",
    "    sys₊, sys = sys, sys₊\n",
    "    b_now, ambient_ω_ζ = sys\n",
    "    append!(track,Elements.position(conftransform(ambient_ω_ζ,b_now)))\n",
    "end\n",
    "final_b, final_ω = sys;\n",
    "ambient_ω_z = conftransform(final_ω,final_b)"
   ]
  },
  {
   "cell_type": "code",
   "execution_count": 32,
   "metadata": {},
   "outputs": [],
   "source": [
    "using Plots\n",
    "clibrary(:colorbrewer)\n",
    "default(grid = false)"
   ]
  },
  {
   "cell_type": "markdown",
   "metadata": {},
   "source": [
    "### Plotting the instantaneous system"
   ]
  },
  {
   "cell_type": "code",
   "execution_count": 54,
   "metadata": {},
   "outputs": [
    {
     "data": {
      "image/png": "[encoded data removed]"
     },
     "execution_count": 54,
     "metadata": {},
     "output_type": "execute_result"
    }
   ],
   "source": [
    "plot((b,ambient_ω_z),ratio=1,legend=:none,xlims = (-2,2), ylims = (-2,2))"
   ]
  },
  {
   "cell_type": "markdown",
   "metadata": {},
   "source": [
    "### Plotting the pathlines of the vortex elements"
   ]
  },
  {
   "cell_type": "code",
   "execution_count": 133,
   "metadata": {},
   "outputs": [
    {
     "data": {
      "image/png": "[encoded data removed]",
      "text/plain": [
       "PyPlot.Figure(PyObject <matplotlib.figure.Figure object at 0x13206f890>)"
      ]
     },
     "metadata": {},
     "output_type": "display_data"
    }
   ],
   "source": [
    "ps = plot(final_b,ratio=1,legend=:none,xlims = (-2,2), ylims = (-2,2),show=:true);\n",
    "for i = 1:length(init_ω_z)\n",
    "    plot!(ps,real.(track[i:length(init_ω_z):end]),imag.(track[i:length(init_ω_z):end]));\n",
    "end"
   ]
  },
  {
   "cell_type": "code",
   "execution_count": 134,
   "metadata": {},
   "outputs": [
    {
     "ename": "LoadError",
     "evalue": "\u001b[91mCheck solution\u001b[39m",
     "output_type": "error",
     "traceback": [
      "\u001b[91mCheck solution\u001b[39m",
      "",
      "Stacktrace:",
      " [1] \u001b[1mevalinv_exterior\u001b[22m\u001b[22m\u001b[1m(\u001b[22m\u001b[22m::Array{Complex{Float64},1}, ::Array{Complex{Float64},1}, ::Array{Float64,1}, ::Array{Complex{Float64},1}, ::Complex{Float64}, ::Tuple{Array{Float64,2},Array{Float64,2}}\u001b[1m)\u001b[22m\u001b[22m at \u001b[1m/Users/jeff/.julia/v0.6/SchwarzChristoffel/src/exterior/parameters.jl:341\u001b[22m\u001b[22m",
      " [2] \u001b[1m#call#143\u001b[22m\u001b[22m\u001b[1m(\u001b[22m\u001b[22m::Bool, ::SchwarzChristoffel.Properties.InverseMap{SchwarzChristoffel.Exterior.ExteriorMap}, ::Array{Complex{Float64},1}\u001b[1m)\u001b[22m\u001b[22m at \u001b[1m/Users/jeff/.julia/v0.6/SchwarzChristoffel/src/Exterior.jl:453\u001b[22m\u001b[22m",
      " [3] \u001b[1m(::SchwarzChristoffel.Properties.#kw#InverseMap)\u001b[22m\u001b[22m\u001b[1m(\u001b[22m\u001b[22m::Array{Any,1}, ::SchwarzChristoffel.Properties.InverseMap{SchwarzChristoffel.Exterior.ExteriorMap}, ::Array{Complex{Float64},1}\u001b[1m)\u001b[22m\u001b[22m at \u001b[1m./<missing>:0\u001b[22m\u001b[22m",
      " [4] \u001b[1m#call#148\u001b[22m\u001b[22m at \u001b[1m/Users/jeff/.julia/v0.6/SchwarzChristoffel/src/Exterior.jl:462\u001b[22m\u001b[22m [inlined]",
      " [5] \u001b[1m(::SchwarzChristoffel.Properties.InverseMap{SchwarzChristoffel.Exterior.ExteriorMap})\u001b[22m\u001b[22m\u001b[1m(\u001b[22m\u001b[22m::Complex{Float64}\u001b[1m)\u001b[22m\u001b[22m at \u001b[1m/Users/jeff/.julia/v0.6/SchwarzChristoffel/src/Exterior.jl:462\u001b[22m\u001b[22m",
      " [6] \u001b[1minverse_conftransform\u001b[22m\u001b[22m\u001b[1m(\u001b[22m\u001b[22m::Complex{Float64}, ::PotentialFlow.Bodies.ConformalBody\u001b[1m)\u001b[22m\u001b[22m at \u001b[1m/Users/jeff/.julia/v0.6/PotentialFlow/src/elements/Bodies.jl:168\u001b[22m\u001b[22m",
      " [7] \u001b[1mcollect_to!\u001b[22m\u001b[22m\u001b[1m(\u001b[22m\u001b[22m::Array{Complex{Float64},2}, ::Base.Generator{Array{Complex{Float64},2},PotentialFlow.Elements.##5#6{PotentialFlow.Bodies.ConformalBody}}, ::Int64, ::Int64\u001b[1m)\u001b[22m\u001b[22m at \u001b[1m./array.jl:508\u001b[22m\u001b[22m",
      " [8] \u001b[1m_collect\u001b[22m\u001b[22m\u001b[1m(\u001b[22m\u001b[22m::Array{Complex{Float64},2}, ::Base.Generator{Array{Complex{Float64},2},PotentialFlow.Elements.##5#6{PotentialFlow.Bodies.ConformalBody}}, ::Base.EltypeUnknown, ::Base.HasShape\u001b[1m)\u001b[22m\u001b[22m at \u001b[1m./array.jl:489\u001b[22m\u001b[22m",
      " [9] \u001b[1minverse_conftransform\u001b[22m\u001b[22m\u001b[1m(\u001b[22m\u001b[22m::Array{Complex{Float64},2}, ::PotentialFlow.Bodies.ConformalBody\u001b[1m)\u001b[22m\u001b[22m at \u001b[1m/Users/jeff/.julia/v0.6/PotentialFlow/src/Properties.jl:112\u001b[22m\u001b[22m",
      " [10] \u001b[1minclude_string\u001b[22m\u001b[22m\u001b[1m(\u001b[22m\u001b[22m::String, ::String\u001b[1m)\u001b[22m\u001b[22m at \u001b[1m./loading.jl:522\u001b[22m\u001b[22m"
     ]
    }
   ],
   "source": [
    "xrange = -2:0.1:2\n",
    "yrange = -1:0.1:1\n",
    "\n",
    "ζ = inverse_conftransform([x + im*y for y in yrange, x in xrange],b)\n",
    "ψ = streamfunction(ζ, elements)\n",
    "plot(xrange,yrange,ψ,series=:contour)\n",
    "#streamlines(-2:0.1:2, -1:0.1:1, sys, ratio=1, clim = (-3, 3), levels = collect(-0.05:0.001:0.05), color = cgrad([\"#efefef\", \"#efefef\"]),linewidth=2)\n",
    "plot!(b)"
   ]
  },
  {
   "cell_type": "code",
   "execution_count": 147,
   "metadata": {},
   "outputs": [
    {
     "data": {
      "image/png": "[encoded data removed]"
     },
     "execution_count": 147,
     "metadata": {},
     "output_type": "execute_result"
    }
   ],
   "source": [
    "ψ = streamfunction(ζ, sys);\n",
    "plot(xrange,yrange,ψ,seriestype=:contour,ratio=1,levels = collect(-0.1:0.01:0.1))"
   ]
  },
  {
   "cell_type": "code",
   "execution_count": 138,
   "metadata": {},
   "outputs": [
    {
     "data": {
      "text/plain": [
       "-0.009433016478128359"
      ]
     },
     "execution_count": 138,
     "metadata": {},
     "output_type": "execute_result"
    }
   ],
   "source": [
    "streamfunction(b.zs[10],sys)"
   ]
  },
  {
   "cell_type": "code",
   "execution_count": 151,
   "metadata": {},
   "outputs": [],
   "source": [
    "rmax = 3.0\n",
    "  eps = 0.00001;\n",
    "\n",
    "  nth = 400;\n",
    "  dth = 2π/nth;\n",
    "  θ = linspace(0,2π,nth+1);\n",
    "  dr = dth;\n",
    "  r = [1+eps];\n",
    "  while maximum(r) < rmax\n",
    "    push!(r,r[end]+dr)\n",
    "    dr = r[end]*dth;\n",
    "  end\n",
    "  \n",
    "  ζ = r * exp.(im*θ');\n",
    "Z = conftransform(ζ,b);"
   ]
  },
  {
   "cell_type": "code",
   "execution_count": 136,
   "metadata": {},
   "outputs": [],
   "source": [
    "using BookExamples"
   ]
  },
  {
   "cell_type": "code",
   "execution_count": 137,
   "metadata": {},
   "outputs": [
    {
     "data": {
      "image/png": "[encoded data removed]",
      "text/plain": [
       "PyPlot.Figure(PyObject <matplotlib.figure.Figure object at 0x129356b50>)"
      ]
     },
     "metadata": {},
     "output_type": "display_data"
    },
    {
     "name": "stdout",
     "output_type": "stream",
     "text": [
      "6.0\n"
     ]
    },
    {
     "data": {
      "text/plain": [
       "PyObject <matplotlib.contour.QuadContourSet object at 0x12d0bcf10>"
      ]
     },
     "execution_count": 137,
     "metadata": {},
     "output_type": "execute_result"
    }
   ],
   "source": [
    "plot_streamlines(sys;scalefactor=3.0)"
   ]
  },
  {
   "cell_type": "code",
   "execution_count": 153,
   "metadata": {},
   "outputs": [],
   "source": [
    "ψ = streamfunction(ζ, sys);"
   ]
  }
 ],
 "metadata": {
  "kernelspec": {
   "display_name": "Julia 0.6.2",
   "language": "julia",
   "name": "julia-0.6"
  },
  "language_info": {
   "file_extension": ".jl",
   "mimetype": "application/julia",
   "name": "julia",
   "version": "0.6.2"
  }
 },
 "nbformat": 4,
 "nbformat_minor": 2
}

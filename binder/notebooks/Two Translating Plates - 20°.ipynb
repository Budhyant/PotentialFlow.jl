{
 "cells": [
  {
   "cell_type": "markdown",
   "metadata": {},
   "source": [
    "# Two Translating Plates at 20°"
   ]
  },
  {
   "cell_type": "code",
   "execution_count": 1,
   "metadata": {},
   "outputs": [
    {
     "data": {
      "text/plain": [
       "\"/Users/jeff/PotentialFlow\""
      ]
     },
     "execution_count": 1,
     "metadata": {},
     "output_type": "execute_result"
    }
   ],
   "source": [
    "using Pkg\n",
    "Pkg.activate(\"/Users/jeff/PotentialFlow\")"
   ]
  },
  {
   "cell_type": "code",
   "execution_count": 2,
   "metadata": {},
   "outputs": [],
   "source": [
    "using PotentialFlow"
   ]
  },
  {
   "cell_type": "code",
   "execution_count": 24,
   "metadata": {},
   "outputs": [],
   "source": [
    "using LinearAlgebra"
   ]
  },
  {
   "cell_type": "markdown",
   "metadata": {},
   "source": [
    "## Set up"
   ]
  },
  {
   "cell_type": "markdown",
   "metadata": {},
   "source": [
    "At the beginning of every time-step, we first determine the bound vortex sheet strength required to satisfy the no-flow-through condition, then velocity of all vortex elements:"
   ]
  },
  {
   "cell_type": "code",
   "execution_count": 8,
   "metadata": {},
   "outputs": [
    {
     "data": {
      "text/plain": [
       "compute_ẋ! (generic function with 1 method)"
      ]
     },
     "execution_count": 8,
     "metadata": {},
     "output_type": "execute_result"
    }
   ],
   "source": [
    "function compute_ẋ!(ẋ, x, t)\n",
    "    plate1, plate2, ambient_sys = x\n",
    "    motion1, motion2, ambient_vel = ẋ\n",
    "    \n",
    "    Plates.enforce_no_flow_through!(plate1, motion1, plate2, motion2, ambient_sys, t)\n",
    "    \n",
    "    reset_velocity!(ẋ, x)\n",
    "    self_induce_velocity!(ẋ, x, t)\n",
    "end"
   ]
  },
  {
   "cell_type": "markdown",
   "metadata": {},
   "source": [
    "Once we have advected all the vortex elements, we release new segments of the vortex sheet from the edges of the plate.\n",
    "Since we are dealing with a low angle of attack case, only the trailing edge will be forced to satisfy the Kutta condition.\n",
    "Vorticity released from the leading edge will instead follow the leading edge suction parameter (LESP) criteria described in [Ramesh et al. 2014](https://doi.org/10.1017/jfm.2014.297)."
   ]
  },
  {
   "cell_type": "code",
   "execution_count": 72,
   "metadata": {},
   "outputs": [
    {
     "data": {
      "text/plain": [
       "shed_new_vorticity! (generic function with 3 methods)"
      ]
     },
     "execution_count": 72,
     "metadata": {},
     "output_type": "execute_result"
    }
   ],
   "source": [
    "\n",
    "function shed_new_vorticity!(sheet1₊, sheet1₋, plate1, motion1, sheet2₊, sheet2₋, plate2, motion2, t, lesp = 0.0, tesp = 0.0)\n",
    "    z1₊ = (sheet1₊.blobs[end].z + 2plate1.zs[end])/3\n",
    "    z1₋ = (sheet1₋.blobs[end].z + 2plate1.zs[1])/3\n",
    "    \n",
    "    z2₊ = (sheet2₊.blobs[end].z + 2plate2.zs[end])/3\n",
    "    z2₋ = (sheet2₋.blobs[end].z + 2plate2.zs[1])/3\n",
    "    \n",
    "    segment1₊ = Vortex.Blob.([sheet1₊.blobs[end].z, z1₊], [0.5, 0.5], δ)\n",
    "    segment1₋ = Vortex.Blob.([sheet1₋.blobs[end].z, z1₋], [0.5, 0.5], δ)\n",
    "    \n",
    "    segment2₊ = Vortex.Blob.([sheet2₊.blobs[end].z, z2₊], [0.5, 0.5], δ)\n",
    "    segment2₋ = Vortex.Blob.([sheet2₋.blobs[end].z, z2₋], [0.5, 0.5], δ)\n",
    "    \n",
    "    Γ1old₊ = 1\n",
    "    Γ1old₋ = 1\n",
    "    Γ2old₊ = 1\n",
    "    Γ2old₋ = 1\n",
    "    err = 1\n",
    "    \n",
    "    plate1tmp = deepcopy(plate1)\n",
    "    plate2tmp = deepcopy(plate2)\n",
    "    \n",
    "    while err > 1e-10\n",
    "    \n",
    "        global sheet1tmp₊ = deepcopy(sheet1₊)\n",
    "        global sheet1tmp₋ = deepcopy(sheet1₋)\n",
    "        global sheet2tmp₊ = deepcopy(sheet2₊)\n",
    "        global sheet2tmp₋ = deepcopy(sheet2₋)\n",
    "\n",
    "        #Plates.enforce_no_flow_through!(plate1, motion1, plate2, motion2, (sheet1tmp₊, sheet1tmp₋, sheet2tmp₊, sheet2tmp₋), t)\n",
    "        Plates.enforce_no_flow_through!(plate1, motion1, (plate2tmp,sheet2tmp₊,sheet2tmp₋), 0)\n",
    "        Plates.enforce_no_flow_through!(plate2, motion2, (plate1tmp,sheet1tmp₊,sheet1tmp₋), 0)\n",
    "        \n",
    "        Γ1₊, Γ1₋, _, _ = Plates.vorticity_flux!(plate1, segment1₊, segment1₋, t, lesp, tesp);\n",
    "        Γ2₊, Γ2₋, _, _ = Plates.vorticity_flux!(plate2, segment2₊, segment2₋, t, lesp, tesp);\n",
    "    \n",
    "        Vortex.Sheets.append_segment!(sheet1tmp₊, z1₊, Γ1₊)\n",
    "        Vortex.Sheets.append_segment!(sheet1tmp₋, z1₋, Γ1₋)\n",
    "        Vortex.Sheets.append_segment!(sheet2tmp₊, z2₊, Γ2₊)\n",
    "        Vortex.Sheets.append_segment!(sheet2tmp₋, z2₋, Γ2₋)\n",
    "    \n",
    "        Plates.enforce_no_flow_through!(plate1tmp, motion1, (sheet1tmp₊,sheet1tmp₋), 0)\n",
    "        Plates.enforce_no_flow_through!(plate2tmp, motion2, (sheet2tmp₊,sheet2tmp₋), 0)\n",
    "        \n",
    "        err = sqrt((Γ1₊ - Γ1old₊)^2 + (Γ1₋ - Γ1old₋)^2 + (Γ2₊ - Γ2old₊)^2 + (Γ2₋ - Γ2old₋)^2)\n",
    "    \n",
    "        Γ1old₊ = Γ1₊\n",
    "        Γ1old₋ = Γ1₋\n",
    "        Γ2old₊ = Γ2₊\n",
    "        Γ2old₋ = Γ2₋\n",
    "    end\n",
    "    \n",
    "    sheet1₊ = deepcopy(sheet1tmp₊)\n",
    "    sheet1₋ = deepcopy(sheet1tmp₋)\n",
    "    sheet2₊ = deepcopy(sheet2tmp₊)\n",
    "    sheet2₋ = deepcopy(sheet2tmp₋)\n",
    "    \n",
    "end"
   ]
  },
  {
   "cell_type": "code",
   "execution_count": 75,
   "metadata": {},
   "outputs": [],
   "source": [
    "function Plates.enforce_no_flow_through!(p1::Plate,ṗ1,p2::Plate,ṗ2,elements,t)\n",
    "    err1 = err2 = 1\n",
    "    iter = 0\n",
    "    while max(err1,err2) > 1e-10\n",
    "        C1_old = copy(p1.C)\n",
    "        C2_old = copy(p2.C)\n",
    "        Plates.enforce_no_flow_through!(p1, ṗ1, (p2,elements), t)\n",
    "        Plates.enforce_no_flow_through!(p2, ṗ2, (p1,elements), t)\n",
    "        err1 = norm(p1.C-C1_old)\n",
    "        err2 = norm(p2.C-C2_old)\n",
    "        iter += 1\n",
    "    end\n",
    "    nothing\n",
    "end\n",
    "\n",
    "function Plates.influence_on_plate!(∂A1::Vector{ComplexF64}, ∂A2::Vector{ComplexF64}, plate1::Plate, plate2::Plate, v, t)\n",
    "    err1 = err2 = 1\n",
    "    iter = 0\n",
    "    ∂A1old = zeros(ComplexF64,plate1.N)\n",
    "    ∂A2old = zeros(ComplexF64,plate2.N)\n",
    "    ∂A1 = copy(∂A1old)\n",
    "    ∂A2 = copy(∂A2old)\n",
    "    p1tmp = deepcopy(p1)\n",
    "    p2tmp = deepcopy(p2)\n",
    "    p1tmp.C .= ∂A1\n",
    "    p2tmp.C .= ∂A2 \n",
    "    while max(err1,err2) > 1e-10\n",
    "        \n",
    "        Plates.influence_on_plate!(∂A1, p1, (v,p2tmp), t)\n",
    "        Plates.influence_on_plate!(∂A2, p2, (v,p1tmp), t)\n",
    "            \n",
    "        p1tmp.C .= ∂A1\n",
    "        p2tmp.C .= ∂A2     \n",
    "        err1 = norm(∂A1-∂A1old)\n",
    "        err2 = norm(∂A2-∂A2old)\n",
    "        ∂A1old = copy(∂A1)\n",
    "        ∂A2old = copy(∂A2)\n",
    "        iter += 1\n",
    "    end\n",
    "    println(\"number of iterations = \",iter)\n",
    "    nothing\n",
    "end\n",
    "\n"
   ]
  },
  {
   "cell_type": "markdown",
   "metadata": {},
   "source": [
    "### Discretize the plate and sheets"
   ]
  },
  {
   "cell_type": "markdown",
   "metadata": {},
   "source": [
    "We are simulating a flat plate with zero thickness impulsively translating horizontally at a fixed velocity and angle of attack"
   ]
  },
  {
   "cell_type": "code",
   "execution_count": 76,
   "metadata": {},
   "outputs": [],
   "source": [
    "L = 1.0   # chord length\n",
    "N = 128   # number of plate control points (distributed along a extrema Chebyshev grid)\n",
    "\n",
    "ċ = L  # translation velocity\n",
    "α = -π/9   # angle of attack\n",
    "\n",
    "Δt = 1e-2; # time step\n",
    "\n",
    "plate1 = Plate(N, L, zero(ComplexF64), α)\n",
    "motion1 = Plates.RigidBodyMotion(ċ, 0.0);\n",
    "\n",
    "plate2 = Plate(N, L, 1.2+im*0, α)\n",
    "motion2 = Plates.RigidBodyMotion(ċ, 0.0);"
   ]
  },
  {
   "cell_type": "markdown",
   "metadata": {},
   "source": [
    "We place the initial segments of the vortex sheets perpendicularly off each edge of the plate.\n",
    "The sheets themselves are represented as discrete vortex blobs, all with the same blob radius `δ`.\n",
    "Both segments initially have unit circulation."
   ]
  },
  {
   "cell_type": "code",
   "execution_count": 77,
   "metadata": {},
   "outputs": [
    {
     "data": {
      "text/plain": [
       "Vortex Sheet: L ≈ 0.01, Γ = 0.0, δ = 0.01"
      ]
     },
     "execution_count": 77,
     "metadata": {},
     "output_type": "execute_result"
    }
   ],
   "source": [
    "Δz₀ = im*Δt*exp(im*α)\n",
    "z1₋, z1₊ = plate1.zs[[1,N]]\n",
    "z2₋, z2₊ = plate2.zs[[1,N]]\n",
    "\n",
    "\n",
    "δ = 0.01\n",
    "\n",
    "segment1₊ = Vortex.Sheet([0.5, 1.5] .* Δz₀ .+ z1₊, [0.0, 1.0], δ)\n",
    "segment1₋ = Vortex.Sheet([0.5, 1.5] .* Δz₀ .+ z1₋, [0.0, 1.0], δ)\n",
    "\n",
    "segment2₊ = Vortex.Sheet([0.5, 1.5] .* Δz₀ .+ z2₊, [0.0, 1.0], δ)\n",
    "segment2₋ = Vortex.Sheet([0.5, 1.5] .* Δz₀ .+ z2₋, [0.0, 1.0], δ)\n",
    "\n",
    "sheet1₊ = Vortex.Sheet([0.5, 1.5] .* Δz₀ .+ z1₊, [0.0, 0.0], δ)\n",
    "sheet1₋ = Vortex.Sheet([0.5, 1.5] .* Δz₀ .+ z1₋, [0.0, 0.0], δ)\n",
    "sheet2₊ = Vortex.Sheet([0.5, 1.5] .* Δz₀ .+ z2₊, [0.0, 0.0], δ)\n",
    "sheet2₋ = Vortex.Sheet([0.5, 1.5] .* Δz₀ .+ z2₋, [0.0, 0.0], δ) "
   ]
  },
  {
   "cell_type": "markdown",
   "metadata": {},
   "source": [
    "We then adjust the circulation in the vortex sheet segments to satisfy the leading and trailing edge suction parameters.\n",
    "Since we want the Kutta condition to be satisfied at the trailing edge, we set the critical trailing edge suction parameter to zero."
   ]
  },
  {
   "cell_type": "code",
   "execution_count": 78,
   "metadata": {},
   "outputs": [],
   "source": [
    "lesp = 0.1\n",
    "tesp = 0.0\n",
    "\n",
    "\n",
    "Γ1old₊ = 1\n",
    "Γ1old₋ = 1\n",
    "Γ2old₊ = 1\n",
    "Γ2old₋ = 1\n",
    "err = 1.0\n",
    "plate1tmp = deepcopy(plate1)\n",
    "plate2tmp = deepcopy(plate2)\n",
    "while err > 1e-10\n",
    "    \n",
    "        #Plates.enforce_no_flow_through!(plate1, motion1, plate2, motion2, (sheet1₊, sheet1₋, sheet2₊, sheet2₋), 0)        \n",
    "\n",
    "        Plates.enforce_no_flow_through!(plate1, motion1, (plate2tmp,sheet2₊,sheet2₋), 0)\n",
    "        Plates.enforce_no_flow_through!(plate2, motion2, (plate1tmp,sheet1₊,sheet1₋), 0)\n",
    "            \n",
    "        global Γ1₊, Γ1₋, _, _ = Plates.vorticity_flux!(plate1, segment1₊, segment1₋, 0, lesp, tesp);\n",
    "        global Γ2₊, Γ2₋, _, _ = Plates.vorticity_flux!(plate2, segment2₊, segment2₋, 0, lesp, tesp);\n",
    "    \n",
    "        #println(Γ1₊)\n",
    "    \n",
    "        sheet1₊ = Vortex.Sheet([0.5, 1.5] .* Δz₀ .+ z1₊, [0.0, Γ1₊], δ)\n",
    "        sheet1₋ = Vortex.Sheet([0.5, 1.5] .* Δz₀ .+ z1₋, [0.0, Γ1₋], δ)\n",
    "        sheet2₊ = Vortex.Sheet([0.5, 1.5] .* Δz₀ .+ z2₊, [0.0, Γ2₊], δ)\n",
    "        sheet2₋ = Vortex.Sheet([0.5, 1.5] .* Δz₀ .+ z2₋, [0.0, Γ2₋], δ)\n",
    "    \n",
    "        Plates.enforce_no_flow_through!(plate1tmp, motion1, (sheet1₊,sheet1₋), 0)\n",
    "        Plates.enforce_no_flow_through!(plate2tmp, motion2, (sheet2₊,sheet2₋), 0)\n",
    "    \n",
    "        err = sqrt((Γ1₊ - Γ1old₊)^2 + (Γ1₋ - Γ1old₋)^2 + (Γ2₊ - Γ2old₊)^2 + (Γ2₋ - Γ2old₋)^2)\n",
    "        \n",
    "        Γ1old₊ = Γ1₊\n",
    "        Γ1old₋ = Γ1₋\n",
    "        Γ2old₊ = Γ2₊\n",
    "        Γ2old₋ = Γ2₋\n",
    "end\n",
    "    "
   ]
  },
  {
   "cell_type": "code",
   "execution_count": 79,
   "metadata": {},
   "outputs": [
    {
     "data": {
      "text/plain": [
       "0.14415069620955587"
      ]
     },
     "execution_count": 79,
     "metadata": {},
     "output_type": "execute_result"
    }
   ],
   "source": [
    "Γ1₋"
   ]
  },
  {
   "cell_type": "code",
   "execution_count": 80,
   "metadata": {},
   "outputs": [
    {
     "data": {
      "text/plain": [
       ":colorbrewer"
      ]
     },
     "execution_count": 80,
     "metadata": {},
     "output_type": "execute_result"
    }
   ],
   "source": [
    "using Plots\n",
    "clibrary(:colorbrewer)"
   ]
  },
  {
   "cell_type": "markdown",
   "metadata": {},
   "source": [
    "We organize the flow elements into the plate and ambient elements."
   ]
  },
  {
   "cell_type": "code",
   "execution_count": 81,
   "metadata": {},
   "outputs": [],
   "source": [
    "ambient_sys = (sheet1₊, sheet1₋,sheet2₊, sheet2₋)\n",
    "sys = (plate1, plate2, ambient_sys)\n",
    "ẋs = (motion1, motion2, allocate_velocity(ambient_sys));"
   ]
  },
  {
   "cell_type": "markdown",
   "metadata": {},
   "source": [
    "## Time-Marching"
   ]
  },
  {
   "cell_type": "markdown",
   "metadata": {},
   "source": [
    "We use forward Euler to evolve the system and apply filtering on both the leading and trailing edge vortex sheets to surpress small-scale instabilities."
   ]
  },
  {
   "cell_type": "code",
   "execution_count": 82,
   "metadata": {},
   "outputs": [],
   "source": [
    "tf = 1.0\n",
    "T = 0:Δt:tf\n",
    "\n",
    "for t in T\n",
    "    TimeMarching.forward_euler!(sys, sys, t, Δt, compute_ẋ!, advect!, ẋs)\n",
    "\n",
    "    # Redistribute the points along the free vortex sheet to be at least 2UΔt\n",
    "    # apart from each other.  At the same time, we filter out any length scales\n",
    "    # along the sheet shorter than 6UΔt\n",
    "    for s in 1:4\n",
    "        Sheets.arclength(sys[3][s]) ≥ 3Δt && Sheets.filter!(sys[3][s], 2Δt, 6Δt)\n",
    "    end\n",
    "    \n",
    "    #sheet1₊, sheet1₋, plate1, motion1, sheet2₊, sheet2₋, plate2, motion2\n",
    "    \n",
    "    shed_new_vorticity!(sys[3][1], sys[3][2], sys[1], ẋs[1], sys[3][3], sys[3][4], sys[2], ẋs[2], t + Δt, lesp, tesp)\n",
    "end"
   ]
  },
  {
   "cell_type": "markdown",
   "metadata": {},
   "source": [
    "## Plotting"
   ]
  },
  {
   "cell_type": "markdown",
   "metadata": {},
   "source": [
    "Most flow elements in the library has [plot recipes](https://github.com/JuliaPlots/RecipesBase.jl) defined for them.\n",
    "So once [`Plots.jl`](https://github.com/JuliaPlots/Plots.jl) is installed along with the appropriate backend, we can directly call `plot` on the potential flow elements."
   ]
  },
  {
   "cell_type": "code",
   "execution_count": 79,
   "metadata": {},
   "outputs": [
    {
     "name": "stderr",
     "output_type": "stream",
     "text": [
      "┌ Info: Recompiling stale cache file /Users/jeff/.julia/compiled/v1.1/Plots/ld3vC.ji for Plots [91a5bcdd-55d7-5caf-9e0b-520d859cae80]\n",
      "└ @ Base loading.jl:1184\n"
     ]
    },
    {
     "data": {
      "text/plain": [
       ":colorbrewer"
      ]
     },
     "execution_count": 79,
     "metadata": {},
     "output_type": "execute_result"
    }
   ],
   "source": [
    "using Plots\n",
    "clibrary(:colorbrewer)"
   ]
  },
  {
   "cell_type": "code",
   "execution_count": 83,
   "metadata": {},
   "outputs": [
    {
     "data": {
      "image/svg+xml": [
       "<?xml version=\"1.0\" encoding=\"utf-8\"?>\n",
       "<svg xmlns=\"http://www.w3.org/2000/svg\" xmlns:xlink=\"http://www.w3.org/1999/xlink\" width=\"600\" height=\"150\" viewBox=\"0 0 2400 600\">\n",
       "<defs>\n",
       "  <clipPath id=\"clip5900\">\n",
       "    <rect x=\"0\" y=\"0\" width=\"2000\" height=\"2000\"/>\n",
       "  </clipPath>\n",
       "</defs>\n",
       "<defs>\n",
       "  <clipPath id=\"clip5901\">\n",
       "    <rect x=\"0\" y=\"0\" width=\"2400\" height=\"600\"/>\n",
       "  </clipPath>\n",
       "</defs>\n",
       "<polygon clip-path=\"url(#clip5901)\" points=\"\n",
       "0,600 2400,600 2400,0 0,0 \n",
       "  \" fill=\"#ffffff\" fill-rule=\"evenodd\" fill-opacity=\"1\"/>\n",
       "<defs>\n",
       "  <clipPath id=\"clip5902\">\n",
       "    <rect x=\"480\" y=\"0\" width=\"1681\" height=\"600\"/>\n",
       "  </clipPath>\n",
       "</defs>\n",
       "<polygon clip-path=\"url(#clip5901)\" points=\"\n",
       "216.266,429.859 2018.27,429.859 2018.27,141.818 216.266,141.818 \n",
       "  \" fill=\"#ffffff\" fill-rule=\"evenodd\" fill-opacity=\"1\"/>\n",
       "<defs>\n",
       "  <clipPath id=\"clip5903\">\n",
       "    <rect x=\"216\" y=\"141\" width=\"1803\" height=\"289\"/>\n",
       "  </clipPath>\n",
       "</defs>\n",
       "<polyline clip-path=\"url(#clip5901)\" style=\"stroke:#000000; stroke-width:4; stroke-opacity:1; fill:none\" points=\"\n",
       "  216.266,429.859 2018.27,429.859 \n",
       "  \"/>\n",
       "<polyline clip-path=\"url(#clip5901)\" style=\"stroke:#000000; stroke-width:4; stroke-opacity:1; fill:none\" points=\"\n",
       "  216.266,429.859 216.266,141.818 \n",
       "  \"/>\n",
       "<polyline clip-path=\"url(#clip5901)\" style=\"stroke:#000000; stroke-width:4; stroke-opacity:1; fill:none\" points=\"\n",
       "  235.364,429.859 235.364,425.539 \n",
       "  \"/>\n",
       "<polyline clip-path=\"url(#clip5901)\" style=\"stroke:#000000; stroke-width:4; stroke-opacity:1; fill:none\" points=\"\n",
       "  632.618,429.859 632.618,425.539 \n",
       "  \"/>\n",
       "<polyline clip-path=\"url(#clip5901)\" style=\"stroke:#000000; stroke-width:4; stroke-opacity:1; fill:none\" points=\"\n",
       "  1029.87,429.859 1029.87,425.539 \n",
       "  \"/>\n",
       "<polyline clip-path=\"url(#clip5901)\" style=\"stroke:#000000; stroke-width:4; stroke-opacity:1; fill:none\" points=\"\n",
       "  1427.12,429.859 1427.12,425.539 \n",
       "  \"/>\n",
       "<polyline clip-path=\"url(#clip5901)\" style=\"stroke:#000000; stroke-width:4; stroke-opacity:1; fill:none\" points=\"\n",
       "  1824.38,429.859 1824.38,425.539 \n",
       "  \"/>\n",
       "<polyline clip-path=\"url(#clip5901)\" style=\"stroke:#000000; stroke-width:4; stroke-opacity:1; fill:none\" points=\"\n",
       "  216.266,405.015 243.296,405.015 \n",
       "  \"/>\n",
       "<polyline clip-path=\"url(#clip5901)\" style=\"stroke:#000000; stroke-width:4; stroke-opacity:1; fill:none\" points=\"\n",
       "  216.266,365.289 243.296,365.289 \n",
       "  \"/>\n",
       "<polyline clip-path=\"url(#clip5901)\" style=\"stroke:#000000; stroke-width:4; stroke-opacity:1; fill:none\" points=\"\n",
       "  216.266,325.564 243.296,325.564 \n",
       "  \"/>\n",
       "<polyline clip-path=\"url(#clip5901)\" style=\"stroke:#000000; stroke-width:4; stroke-opacity:1; fill:none\" points=\"\n",
       "  216.266,285.839 243.296,285.839 \n",
       "  \"/>\n",
       "<polyline clip-path=\"url(#clip5901)\" style=\"stroke:#000000; stroke-width:4; stroke-opacity:1; fill:none\" points=\"\n",
       "  216.266,246.113 243.296,246.113 \n",
       "  \"/>\n",
       "<polyline clip-path=\"url(#clip5901)\" style=\"stroke:#000000; stroke-width:4; stroke-opacity:1; fill:none\" points=\"\n",
       "  216.266,206.388 243.296,206.388 \n",
       "  \"/>\n",
       "<polyline clip-path=\"url(#clip5901)\" style=\"stroke:#000000; stroke-width:4; stroke-opacity:1; fill:none\" points=\"\n",
       "  216.266,166.662 243.296,166.662 \n",
       "  \"/>\n",
       "<g clip-path=\"url(#clip5901)\">\n",
       "<text style=\"fill:#000000; fill-opacity:1; font-family:Arial,Helvetica Neue,Helvetica,sans-serif; font-size:48px; text-anchor:middle;\" transform=\"rotate(0, 235.364, 483.859)\" x=\"235.364\" y=\"483.859\">0.5</text>\n",
       "</g>\n",
       "<g clip-path=\"url(#clip5901)\">\n",
       "<text style=\"fill:#000000; fill-opacity:1; font-family:Arial,Helvetica Neue,Helvetica,sans-serif; font-size:48px; text-anchor:middle;\" transform=\"rotate(0, 632.618, 483.859)\" x=\"632.618\" y=\"483.859\">1.0</text>\n",
       "</g>\n",
       "<g clip-path=\"url(#clip5901)\">\n",
       "<text style=\"fill:#000000; fill-opacity:1; font-family:Arial,Helvetica Neue,Helvetica,sans-serif; font-size:48px; text-anchor:middle;\" transform=\"rotate(0, 1029.87, 483.859)\" x=\"1029.87\" y=\"483.859\">1.5</text>\n",
       "</g>\n",
       "<g clip-path=\"url(#clip5901)\">\n",
       "<text style=\"fill:#000000; fill-opacity:1; font-family:Arial,Helvetica Neue,Helvetica,sans-serif; font-size:48px; text-anchor:middle;\" transform=\"rotate(0, 1427.12, 483.859)\" x=\"1427.12\" y=\"483.859\">2.0</text>\n",
       "</g>\n",
       "<g clip-path=\"url(#clip5901)\">\n",
       "<text style=\"fill:#000000; fill-opacity:1; font-family:Arial,Helvetica Neue,Helvetica,sans-serif; font-size:48px; text-anchor:middle;\" transform=\"rotate(0, 1824.38, 483.859)\" x=\"1824.38\" y=\"483.859\">2.5</text>\n",
       "</g>\n",
       "<g clip-path=\"url(#clip5901)\">\n",
       "<text style=\"fill:#000000; fill-opacity:1; font-family:Arial,Helvetica Neue,Helvetica,sans-serif; font-size:48px; text-anchor:end;\" transform=\"rotate(0, 192.266, 422.515)\" x=\"192.266\" y=\"422.515\">-0.15</text>\n",
       "</g>\n",
       "<g clip-path=\"url(#clip5901)\">\n",
       "<text style=\"fill:#000000; fill-opacity:1; font-family:Arial,Helvetica Neue,Helvetica,sans-serif; font-size:48px; text-anchor:end;\" transform=\"rotate(0, 192.266, 382.789)\" x=\"192.266\" y=\"382.789\">-0.10</text>\n",
       "</g>\n",
       "<g clip-path=\"url(#clip5901)\">\n",
       "<text style=\"fill:#000000; fill-opacity:1; font-family:Arial,Helvetica Neue,Helvetica,sans-serif; font-size:48px; text-anchor:end;\" transform=\"rotate(0, 192.266, 343.064)\" x=\"192.266\" y=\"343.064\">-0.05</text>\n",
       "</g>\n",
       "<g clip-path=\"url(#clip5901)\">\n",
       "<text style=\"fill:#000000; fill-opacity:1; font-family:Arial,Helvetica Neue,Helvetica,sans-serif; font-size:48px; text-anchor:end;\" transform=\"rotate(0, 192.266, 303.339)\" x=\"192.266\" y=\"303.339\">0.00</text>\n",
       "</g>\n",
       "<g clip-path=\"url(#clip5901)\">\n",
       "<text style=\"fill:#000000; fill-opacity:1; font-family:Arial,Helvetica Neue,Helvetica,sans-serif; font-size:48px; text-anchor:end;\" transform=\"rotate(0, 192.266, 263.613)\" x=\"192.266\" y=\"263.613\">0.05</text>\n",
       "</g>\n",
       "<g clip-path=\"url(#clip5901)\">\n",
       "<text style=\"fill:#000000; fill-opacity:1; font-family:Arial,Helvetica Neue,Helvetica,sans-serif; font-size:48px; text-anchor:end;\" transform=\"rotate(0, 192.266, 223.888)\" x=\"192.266\" y=\"223.888\">0.10</text>\n",
       "</g>\n",
       "<g clip-path=\"url(#clip5901)\">\n",
       "<text style=\"fill:#000000; fill-opacity:1; font-family:Arial,Helvetica Neue,Helvetica,sans-serif; font-size:48px; text-anchor:end;\" transform=\"rotate(0, 192.266, 184.162)\" x=\"192.266\" y=\"184.162\">0.15</text>\n",
       "</g>\n",
       "<polyline clip-path=\"url(#clip5903)\" style=\"stroke:#000000; stroke-width:4; stroke-opacity:1; fill:none\" points=\"\n",
       "  267.266,149.97 1013.86,421.707 \n",
       "  \"/>\n",
       "<polyline clip-path=\"url(#clip5903)\" style=\"stroke:#000000; stroke-width:4; stroke-opacity:1; fill:none\" points=\"\n",
       "  1220.68,149.97 1967.27,421.707 \n",
       "  \"/>\n",
       "<defs>\n",
       "  <clipPath id=\"clip5904\">\n",
       "    <rect x=\"2066\" y=\"141\" width=\"73\" height=\"289\"/>\n",
       "  </clipPath>\n",
       "</defs>\n",
       "<g clip-path=\"url(#clip5904)\">\n",
       "<image width=\"72\" height=\"288\" xlink:href=\"data:image/png;base64,\n",
       "iVBORw0KGgoAAAANSUhEUgAAAEgAAAEgCAYAAAAXPTXEAAADGUlEQVR4nO3dwRWbCAxFUYPVx5Q3\n",
       "/e8DpILoLc3i3gp8/vkSMnGS4//Pf8+Hfzp//QHebiS0m+/x64/wbvM9JLTRoKBBQYOCBgUNCs6g\n",
       "YMSCEQsaFDQoaFDQoKBBQYOCQzEYseCVa7CDghELGhQ0KGhQ0KDgKR+MWJjzlNBmThVazfG1hjZz\n",
       "GLHVnBq0msMOWlnSwXwFT7FgxILHfDBiwYgFd1BwSQdLOqhPsIOCHRQ0KLiDgks6eMwHIxaMWJBO\n",
       "MGLBHRRc0mGOU0AbT7EgoGDEggYF6QSP+WAHBTsoCCgIKNhBwVMszPH9/vozvJr6BDsoeIoFAQVP\n",
       "sWAHBSMWBBSMWJBOMGLBYz7YQcGIBa87wnxOAW3mYwet5tCglfoEOyjYQcEOCkYsOBSDHRSMWLCk\n",
       "g/kKdlCwg4IdFIxYMGLBJR00KNhBQTrBYz7YQcEOCkYsGLHgUAzz+I9HVvM5LOmNdIIGBQGFeQS0\n",
       "0qAgoCCg4FAMGhSkE7wPCkYsOBSDBgUBBQEFAQWXdFCfYMSCgIKvGsElHYxYEFAQUJjn15/g5dQn\n",
       "zK1CKyMWNCjM80hoM/evP8HLjQLt5pbQylMsOBSDx3ywpIMlHSzpYAcFOyjM/ZHQRoOCQzFY0sH7\n",
       "oOB9ULCkgx0U5nEHrTQo2EHBoRi87ghzWUIrbxTDXAJaze27xkqDgh0U5pLPyqEY5nYHrSzpYEkH\n",
       "SzrYQcEOCt4oBg0KDsVgSQcjFizp4JIOXtoHIxYs6WAHBYdimMsf+6yMWLCkgzsoCCgIKAgozB8B\n",
       "rRyKwYgFAYW5/MRspUFBQEFAQUBBQMGhGDQo+C4WNCgIKAgoCCgIKAgoOBSDBgUBBQEFfzYf/E46\n",
       "zCOglQYFDQoOxeCfCQxGLFjSQYOCnwEHDQrz+PXLSoOCQzFY0sGIBQEFl3TwZTUYsWDEggYFh2Lw\n",
       "XSy4pIMdFAQUPObDPP6+2Gqe+/r1Z3g1AQWHYtCgIKAwt4BWGhQEFByKYZ5LgzZGLDgUgwYFAQUB\n",
       "BQEFXzWCBgWHYtCg4FAMGhQEFAQUBBQEFAQUvHINfwHxVmXiLtQGSQAAAABJRU5ErkJggg==\n",
       "\" transform=\"translate(2066, 142)\"/>\n",
       "</g>\n",
       "<g clip-path=\"url(#clip5901)\">\n",
       "<text style=\"fill:#000000; fill-opacity:0; font-family:Arial,Helvetica Neue,Helvetica,sans-serif; font-size:48px; text-anchor:start;\" transform=\"rotate(0, 2174.27, 443.511)\" x=\"2174.27\" y=\"443.511\">-</text>\n",
       "</g>\n",
       "<g clip-path=\"url(#clip5901)\">\n",
       "<text style=\"fill:#000000; fill-opacity:0; font-family:Arial,Helvetica Neue,Helvetica,sans-serif; font-size:48px; text-anchor:start;\" transform=\"rotate(0, 2202.38, 443.511)\" x=\"2202.38\" y=\"443.511\">0.5</text>\n",
       "</g>\n",
       "<g clip-path=\"url(#clip5901)\">\n",
       "<text style=\"fill:#000000; fill-opacity:0; font-family:Arial,Helvetica Neue,Helvetica,sans-serif; font-size:48px; text-anchor:start;\" transform=\"rotate(0, 2174.27, 414.706)\" x=\"2174.27\" y=\"414.706\">-</text>\n",
       "</g>\n",
       "<g clip-path=\"url(#clip5901)\">\n",
       "<text style=\"fill:#000000; fill-opacity:0; font-family:Arial,Helvetica Neue,Helvetica,sans-serif; font-size:48px; text-anchor:start;\" transform=\"rotate(0, 2202.38, 414.706)\" x=\"2202.38\" y=\"414.706\">0.4</text>\n",
       "</g>\n",
       "<g clip-path=\"url(#clip5901)\">\n",
       "<text style=\"fill:#000000; fill-opacity:0; font-family:Arial,Helvetica Neue,Helvetica,sans-serif; font-size:48px; text-anchor:start;\" transform=\"rotate(0, 2174.27, 385.902)\" x=\"2174.27\" y=\"385.902\">-</text>\n",
       "</g>\n",
       "<g clip-path=\"url(#clip5901)\">\n",
       "<text style=\"fill:#000000; fill-opacity:0; font-family:Arial,Helvetica Neue,Helvetica,sans-serif; font-size:48px; text-anchor:start;\" transform=\"rotate(0, 2202.38, 385.902)\" x=\"2202.38\" y=\"385.902\">0.3</text>\n",
       "</g>\n",
       "<g clip-path=\"url(#clip5901)\">\n",
       "<text style=\"fill:#000000; fill-opacity:0; font-family:Arial,Helvetica Neue,Helvetica,sans-serif; font-size:48px; text-anchor:start;\" transform=\"rotate(0, 2174.27, 357.098)\" x=\"2174.27\" y=\"357.098\">-</text>\n",
       "</g>\n",
       "<g clip-path=\"url(#clip5901)\">\n",
       "<text style=\"fill:#000000; fill-opacity:0; font-family:Arial,Helvetica Neue,Helvetica,sans-serif; font-size:48px; text-anchor:start;\" transform=\"rotate(0, 2202.38, 357.098)\" x=\"2202.38\" y=\"357.098\">0.2</text>\n",
       "</g>\n",
       "<g clip-path=\"url(#clip5901)\">\n",
       "<text style=\"fill:#000000; fill-opacity:0; font-family:Arial,Helvetica Neue,Helvetica,sans-serif; font-size:48px; text-anchor:start;\" transform=\"rotate(0, 2174.27, 328.294)\" x=\"2174.27\" y=\"328.294\">-</text>\n",
       "</g>\n",
       "<g clip-path=\"url(#clip5901)\">\n",
       "<text style=\"fill:#000000; fill-opacity:0; font-family:Arial,Helvetica Neue,Helvetica,sans-serif; font-size:48px; text-anchor:start;\" transform=\"rotate(0, 2202.38, 328.294)\" x=\"2202.38\" y=\"328.294\">0.1</text>\n",
       "</g>\n",
       "<g clip-path=\"url(#clip5901)\">\n",
       "<text style=\"fill:#000000; fill-opacity:0; font-family:Arial,Helvetica Neue,Helvetica,sans-serif; font-size:48px; text-anchor:start;\" transform=\"rotate(0, 2174.27, 299.49)\" x=\"2174.27\" y=\"299.49\">0</text>\n",
       "</g>\n",
       "<g clip-path=\"url(#clip5901)\">\n",
       "<text style=\"fill:#000000; fill-opacity:0; font-family:Arial,Helvetica Neue,Helvetica,sans-serif; font-size:48px; text-anchor:start;\" transform=\"rotate(0, 2174.27, 270.686)\" x=\"2174.27\" y=\"270.686\">0.1</text>\n",
       "</g>\n",
       "<g clip-path=\"url(#clip5901)\">\n",
       "<text style=\"fill:#000000; fill-opacity:0; font-family:Arial,Helvetica Neue,Helvetica,sans-serif; font-size:48px; text-anchor:start;\" transform=\"rotate(0, 2174.27, 241.881)\" x=\"2174.27\" y=\"241.881\">0.2</text>\n",
       "</g>\n",
       "<g clip-path=\"url(#clip5901)\">\n",
       "<text style=\"fill:#000000; fill-opacity:0; font-family:Arial,Helvetica Neue,Helvetica,sans-serif; font-size:48px; text-anchor:start;\" transform=\"rotate(0, 2174.27, 213.077)\" x=\"2174.27\" y=\"213.077\">0.3</text>\n",
       "</g>\n",
       "<g clip-path=\"url(#clip5901)\">\n",
       "<text style=\"fill:#000000; fill-opacity:0; font-family:Arial,Helvetica Neue,Helvetica,sans-serif; font-size:48px; text-anchor:start;\" transform=\"rotate(0, 2174.27, 184.273)\" x=\"2174.27\" y=\"184.273\">0.4</text>\n",
       "</g>\n",
       "<g clip-path=\"url(#clip5901)\">\n",
       "<text style=\"fill:#000000; fill-opacity:0; font-family:Arial,Helvetica Neue,Helvetica,sans-serif; font-size:48px; text-anchor:start;\" transform=\"rotate(0, 2174.27, 155.469)\" x=\"2174.27\" y=\"155.469\">0.5</text>\n",
       "</g>\n",
       "<polyline clip-path=\"url(#clip5901)\" style=\"stroke:#000000; stroke-width:4; stroke-opacity:0; fill:none\" points=\"\n",
       "  2138.27,429.859 2138.27,429.859 2162.27,429.859 2138.27,429.859 2138.27,401.055 2162.27,401.055 2138.27,401.055 2138.27,372.251 2162.27,372.251 2138.27,372.251 \n",
       "  2138.27,343.447 2162.27,343.447 2138.27,343.447 2138.27,314.643 2162.27,314.643 2138.27,314.643 2138.27,285.839 2162.27,285.839 2138.27,285.839 2138.27,257.034 \n",
       "  2162.27,257.034 2138.27,257.034 2138.27,228.23 2162.27,228.23 2138.27,228.23 2138.27,199.426 2162.27,199.426 2138.27,199.426 2138.27,170.622 2162.27,170.622 \n",
       "  2138.27,170.622 2138.27,141.818 2162.27,141.818 2138.27,141.818 \n",
       "  \"/>\n",
       "<g clip-path=\"url(#clip5901)\">\n",
       "<image width=\"44\" height=\"35\" xlink:href=\"data:image/png;base64,\n",
       "iVBORw0KGgoAAAANSUhEUgAAACwAAAAjCAYAAADv0ujUAAACNElEQVRYhdWX/42zMAyGTSdwGSF0\n",
       "gogRMkJmyAjMwAh0hbQTRB0hZQJghJQN3vvnO1R+tEdPvZLPEhKYxDxxbMckAKhtW2RZltB/IDsi\n",
       "osPhQFmW4Xg8YmugHwUAOecgpQQRgZlRliVCCABAsV2jh3twIoIxBk3TRAW+qJyCa63hvY8C/OlL\n",
       "7z201gO4lBLW2k3BVw1qmgbGmAFcCLFZnL88oaqqUbgopT7q9V9P9N6PvM7MMMb8eay/xcjU638Z\n",
       "Mm81Nk3S+5B5F3wCvH64Xa9XeO+prmvy3lPf9xRCoL7vn85jZlJKkRCC8jwnKSW92hKsAr7dbrDW\n",
       "0vl8psvlMoPI85yYmYiI0jQd7r8XEEKgruuorutF+1JKUkqRUoryPKf9fv94Ec/cb62FUmq0xUII\n",
       "FEXx6+RyzqEoCgghRnan3zDGLIbSwySaGlRKvb0ChBBgrYXWGsz8cAH3pXNmYOpRZv7Ysdw0Dcqy\n",
       "hNZ6cQeMMRhiuG1b5Hk+ShwhBDnnXk6Md8p9gmutafDsdEuYOcoWkwDQ/Yn1fVVVFR0s8K8OJ0ky\n",
       "qm3MTLfbLcpfpt3pdJoVYqXUFiyrZNd13UwZNfCSMk3TT3Oslp2UcmuGl2QnhJgpQwgboKwUALR0\n",
       "DG9dvp7W4aqqZnV4a7CnwABoetI556KEHm689yNgKWXcwEuhUZZldNAzxRQ6ttBYVFpro/X0wxfT\n",
       "Zl5KGYW3fxxgrR11/0KITfvk1QO99yiKAlLKTYG/AIdS82BSe1hQAAAAAElFTkSuQmCC\n",
       "\" transform=\"translate(2256, 268)\"/>\n",
       "</g>\n",
       "</svg>\n"
      ]
     },
     "execution_count": 83,
     "metadata": {},
     "output_type": "execute_result"
    }
   ],
   "source": [
    "plot(sys, ratio = 1, color = :RdBu_r, clims = (-0.5, 0.5), \n",
    "     legend = :none, colorbar = :right, colorbar_title = \"\\$\\\\gamma\\$\", \n",
    "     size = (600, 150), grid = false)"
   ]
  },
  {
   "cell_type": "code",
   "execution_count": 84,
   "metadata": {},
   "outputs": [
    {
     "data": {
      "text/plain": [
       "(Plate: N = 128, L = 1.0, c = 1.0100000000000007 + 0.0im, α = -20.0ᵒ\n",
       "       LESP = NaN, TESP = NaN, Plate: N = 128, L = 1.0, c = 2.209999999999996 + 0.0im, α = -20.0ᵒ\n",
       "       LESP = NaN, TESP = NaN, (Vortex Sheet: L ≈ NaN, Γ = -0.124, δ = 0.01, Vortex Sheet: L ≈ NaN, Γ = 0.144, δ = 0.01, Vortex Sheet: L ≈ NaN, Γ = -0.125, δ = 0.01, Vortex Sheet: L ≈ NaN, Γ = 0.144, δ = 0.01))"
      ]
     },
     "execution_count": 84,
     "metadata": {},
     "output_type": "execute_result"
    }
   ],
   "source": [
    "sys"
   ]
  },
  {
   "cell_type": "code",
   "execution_count": null,
   "metadata": {},
   "outputs": [],
   "source": []
  }
 ],
 "metadata": {
  "kernelspec": {
   "display_name": "Julia 1.1.0",
   "language": "julia",
   "name": "julia-1.1"
  },
  "language_info": {
   "file_extension": ".jl",
   "mimetype": "application/julia",
   "name": "julia",
   "version": "1.1.0"
  }
 },
 "nbformat": 4,
 "nbformat_minor": 2
}

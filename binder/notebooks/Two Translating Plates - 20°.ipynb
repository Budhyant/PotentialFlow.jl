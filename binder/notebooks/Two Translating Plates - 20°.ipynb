{
 "cells": [
  {
   "cell_type": "markdown",
   "metadata": {},
   "source": [
    "# Two Translating Plates at 20°"
   ]
  },
  {
   "cell_type": "code",
   "execution_count": 1,
   "metadata": {},
   "outputs": [
    {
     "data": {
      "text/plain": [
       "\"/Users/jeff/PotentialFlow\""
      ]
     },
     "execution_count": 1,
     "metadata": {},
     "output_type": "execute_result"
    }
   ],
   "source": [
    "using Pkg\n",
    "Pkg.activate(\"/Users/jeff/PotentialFlow\")"
   ]
  },
  {
   "cell_type": "code",
   "execution_count": 1,
   "metadata": {},
   "outputs": [
    {
     "name": "stderr",
     "output_type": "stream",
     "text": [
      "┌ Info: Precompiling PotentialFlow [73af2aaf-3f58-5b29-82a9-435ecf827f5b]\n",
      "└ @ Base loading.jl:1186\n",
      "WARNING: Method definition nlsolve_f(Any) in module OrdinaryDiffEq at /Users/jeff/.julia/packages/OrdinaryDiffEq/Cc6K8/src/integrators/integrator_utils.jl:363 overwritten in module StochasticDiffEq at /Users/jeff/.julia/packages/StochasticDiffEq/YRc41/src/integrators/integrator_utils.jl:340.\n",
      "WARNING: Method definition nlsolve_f(Any, Any) in module OrdinaryDiffEq at /Users/jeff/.julia/packages/OrdinaryDiffEq/Cc6K8/src/integrators/integrator_utils.jl:362 overwritten in module StochasticDiffEq at /Users/jeff/.julia/packages/StochasticDiffEq/YRc41/src/integrators/integrator_utils.jl:339.\n",
      "WARNING: Method definition nlsolve_f(Any) in module OrdinaryDiffEq at /Users/jeff/.julia/packages/OrdinaryDiffEq/Cc6K8/src/integrators/integrator_utils.jl:363 overwritten in module StochasticDiffEq at /Users/jeff/.julia/packages/StochasticDiffEq/YRc41/src/integrators/integrator_utils.jl:340.\n",
      "WARNING: Method definition nlsolve_f(Any, Any) in module OrdinaryDiffEq at /Users/jeff/.julia/packages/OrdinaryDiffEq/Cc6K8/src/integrators/integrator_utils.jl:362 overwritten in module StochasticDiffEq at /Users/jeff/.julia/packages/StochasticDiffEq/YRc41/src/integrators/integrator_utils.jl:339.\n",
      "WARNING: Method definition nlsolve_f(Any) in module OrdinaryDiffEq at /Users/jeff/.julia/packages/OrdinaryDiffEq/Cc6K8/src/integrators/integrator_utils.jl:363 overwritten in module StochasticDiffEq at /Users/jeff/.julia/packages/StochasticDiffEq/YRc41/src/integrators/integrator_utils.jl:340.\n",
      "WARNING: Method definition nlsolve_f(Any, Any) in module OrdinaryDiffEq at /Users/jeff/.julia/packages/OrdinaryDiffEq/Cc6K8/src/integrators/integrator_utils.jl:362 overwritten in module StochasticDiffEq at /Users/jeff/.julia/packages/StochasticDiffEq/YRc41/src/integrators/integrator_utils.jl:339.\n",
      "┌ Warning: The call to compilecache failed to create a usable precompiled cache file for PotentialFlow [73af2aaf-3f58-5b29-82a9-435ecf827f5b]\n",
      "│   exception = ErrorException(\"Invalid input in module list: expected Base.\")\n",
      "└ @ Base loading.jl:969\n"
     ]
    }
   ],
   "source": [
    "using PotentialFlow"
   ]
  },
  {
   "cell_type": "code",
   "execution_count": 3,
   "metadata": {},
   "outputs": [],
   "source": [
    "using LinearAlgebra"
   ]
  },
  {
   "cell_type": "markdown",
   "metadata": {},
   "source": [
    "## Set up"
   ]
  },
  {
   "cell_type": "markdown",
   "metadata": {},
   "source": [
    "At the beginning of every time-step, we first determine the bound vortex sheet strength required to satisfy the no-flow-through condition, then velocity of all vortex elements:"
   ]
  },
  {
   "cell_type": "code",
   "execution_count": 180,
   "metadata": {},
   "outputs": [
    {
     "data": {
      "text/plain": [
       "compute_ẋ! (generic function with 1 method)"
      ]
     },
     "execution_count": 180,
     "metadata": {},
     "output_type": "execute_result"
    }
   ],
   "source": [
    "function compute_ẋ!(ẋ, x, t)\n",
    "    plate1, plate2, ambient_sys = x\n",
    "    motion1, motion2, ambient_vel = ẋ\n",
    "    \n",
    "    Plates.enforce_no_flow_through!(plate1, motion1, plate2, motion2, ambient_sys, t)\n",
    "    \n",
    "    reset_velocity!(ẋ, x)\n",
    "    self_induce_velocity!(ẋ, x, t)\n",
    "end"
   ]
  },
  {
   "cell_type": "markdown",
   "metadata": {},
   "source": [
    "Once we have advected all the vortex elements, we release new segments of the vortex sheet from the edges of the plate.\n",
    "Since we are dealing with a low angle of attack case, only the trailing edge will be forced to satisfy the Kutta condition.\n",
    "Vorticity released from the leading edge will instead follow the leading edge suction parameter (LESP) criteria described in [Ramesh et al. 2014](https://doi.org/10.1017/jfm.2014.297)."
   ]
  },
  {
   "cell_type": "code",
   "execution_count": 181,
   "metadata": {},
   "outputs": [
    {
     "data": {
      "text/plain": [
       "shed_new_vorticity! (generic function with 3 methods)"
      ]
     },
     "execution_count": 181,
     "metadata": {},
     "output_type": "execute_result"
    }
   ],
   "source": [
    "\n",
    "function shed_new_vorticity!(sheet1₊, sheet1₋, plate1, motion1, sheet2₊, sheet2₋, plate2, motion2, t, lesp = 0.0, tesp = 0.0)\n",
    "    z1₊ = (sheet1₊.blobs[end].z + 2plate1.zs[end])/3\n",
    "    z1₋ = (sheet1₋.blobs[end].z + 2plate1.zs[1])/3\n",
    "    \n",
    "    z2₊ = (sheet2₊.blobs[end].z + 2plate2.zs[end])/3\n",
    "    z2₋ = (sheet2₋.blobs[end].z + 2plate2.zs[1])/3\n",
    "    \n",
    "    segment1₊ = Vortex.Blob.([sheet1₊.blobs[end].z, z1₊], [0.5, 0.5], δ)\n",
    "    segment1₋ = Vortex.Blob.([sheet1₋.blobs[end].z, z1₋], [0.5, 0.5], δ)\n",
    "    \n",
    "    segment2₊ = Vortex.Blob.([sheet2₊.blobs[end].z, z2₊], [0.5, 0.5], δ)\n",
    "    segment2₋ = Vortex.Blob.([sheet2₋.blobs[end].z, z2₋], [0.5, 0.5], δ)\n",
    "    \n",
    "    global Γ1₊ = 0.0\n",
    "    global Γ1₋ = 0.0\n",
    "    global Γ2₊ = 0.0\n",
    "    global Γ2₋ = 0.0\n",
    "    err = 1\n",
    "    \n",
    "    #plate1tmp = deepcopy(plate1)\n",
    "    #plate2tmp = deepcopy(plate2)\n",
    "    \n",
    "    while err > 1e-10\n",
    "    \n",
    "        sheet1tmp₊ = deepcopy(sheet1₊)\n",
    "        sheet1tmp₋ = deepcopy(sheet1₋)\n",
    "        sheet2tmp₊ = deepcopy(sheet2₊)\n",
    "        sheet2tmp₋ = deepcopy(sheet2₋)\n",
    "        \n",
    "        Vortex.Sheets.append_segment!(sheet1tmp₊, z1₊, Γ1₊)\n",
    "        Vortex.Sheets.append_segment!(sheet1tmp₋, z1₋, Γ1₋)\n",
    "        Vortex.Sheets.append_segment!(sheet2tmp₊, z2₊, Γ2₊)\n",
    "        Vortex.Sheets.append_segment!(sheet2tmp₋, z2₋, Γ2₋)\n",
    "\n",
    "        Plates.enforce_no_flow_through!(plate1, motion1, plate2, motion2, (sheet1tmp₊, sheet1tmp₋, sheet2tmp₊, sheet2tmp₋), t)\n",
    "        #Plates.enforce_no_flow_through!(plate1, motion1, (plate2tmp,sheet2tmp₊,sheet2tmp₋), 0)\n",
    "        #Plates.enforce_no_flow_through!(plate2, motion2, (plate1tmp,sheet1tmp₊,sheet1tmp₋), 0)\n",
    "        \n",
    "        ΔΓ1₊, ΔΓ1₋, _, _ = Plates.vorticity_flux(plate1, segment1₊, segment1₋, t, lesp, tesp);\n",
    "        ΔΓ2₊, ΔΓ2₋, _, _ = Plates.vorticity_flux(plate2, segment2₊, segment2₋, t, lesp, tesp);\n",
    "            \n",
    "        Γ1₊ += ΔΓ1₊\n",
    "        Γ1₋ += ΔΓ1₋\n",
    "        Γ2₊ += ΔΓ2₊\n",
    "        Γ2₋ += ΔΓ2₋\n",
    "        \n",
    "        \n",
    "            \n",
    "        #Plates.enforce_no_flow_through!(plate1tmp, motion1, (sheet1tmp₊,sheet1tmp₋), 0)\n",
    "        #Plates.enforce_no_flow_through!(plate2tmp, motion2, (sheet2tmp₊,sheet2tmp₋), 0)\n",
    "        \n",
    "        err = sqrt(ΔΓ1₊^2 + ΔΓ1₋^2 + ΔΓ2₊^2 + ΔΓ2₋^2)\n",
    "    \n",
    "    end\n",
    "    \n",
    "    Vortex.Sheets.append_segment!(sheet1₊, z1₊, Γ1₊)\n",
    "    Vortex.Sheets.append_segment!(sheet1₋, z1₋, Γ1₋)\n",
    "    Vortex.Sheets.append_segment!(sheet2₊, z2₊, Γ2₊)\n",
    "    Vortex.Sheets.append_segment!(sheet2₋, z2₋, Γ2₋)\n",
    "    \n",
    "    Plates.enforce_no_flow_through!(plate1, motion1, plate2, motion2, (sheet1₊, sheet1₋, sheet2₊, sheet2₋), t)\n",
    "\n",
    "    \n",
    "    #sheet1₊ = deepcopy(sheet1tmp₊)\n",
    "    #sheet1₋ = deepcopy(sheet1tmp₋)\n",
    "    #sheet2₊ = deepcopy(sheet2tmp₊)\n",
    "    #sheet2₋ = deepcopy(sheet2tmp₋)\n",
    "    \n",
    "end"
   ]
  },
  {
   "cell_type": "code",
   "execution_count": 297,
   "metadata": {},
   "outputs": [],
   "source": [
    "function Plates.enforce_no_flow_through!(p1::Plate,ṗ1,p2::Plate,ṗ2,elements,t)\n",
    "    err1 = err2 = 1\n",
    "    iter = 0\n",
    "    while max(err1,err2) > 1e-10\n",
    "        C1_old = copy(p1.C)\n",
    "        C2_old = copy(p2.C)\n",
    "        Plates.enforce_no_flow_through!(p2, ṗ2, (p1,elements), t)\n",
    "        Plates.enforce_no_flow_through!(p1, ṗ1, (p2,elements), t)\n",
    "        err1 = norm(p1.C-C1_old)\n",
    "        err2 = norm(p2.C-C2_old)\n",
    "        iter += 1\n",
    "    end\n",
    "    Plates.enforce_no_flow_through!(p2, ṗ2, (p1,elements), t)\n",
    "    Plates.enforce_no_flow_through!(p1, ṗ1, (p2,elements), t)\n",
    "    nothing\n",
    "end\n",
    "\n",
    "function Plates.influence_on_plate!(∂A1::Vector{ComplexF64}, ∂A2::Vector{ComplexF64}, plate1::Plate, plate2::Plate, v, t)\n",
    "    err1 = err2 = 1\n",
    "    iter = 0\n",
    "    ∂A1old = zeros(ComplexF64,plate1.N)\n",
    "    ∂A2old = zeros(ComplexF64,plate2.N)\n",
    "    ∂A1 = copy(∂A1old)\n",
    "    ∂A2 = copy(∂A2old)\n",
    "    p1tmp = deepcopy(p1)\n",
    "    p2tmp = deepcopy(p2)\n",
    "    p1tmp.C .= ∂A1\n",
    "    p2tmp.C .= ∂A2 \n",
    "    while max(err1,err2) > 1e-10\n",
    "        \n",
    "        Plates.influence_on_plate!(∂A1, p1, (v,p2tmp), t)\n",
    "        Plates.influence_on_plate!(∂A2, p2, (v,p1tmp), t)\n",
    "            \n",
    "        p1tmp.C .= ∂A1\n",
    "        p2tmp.C .= ∂A2     \n",
    "        err1 = norm(∂A1-∂A1old)\n",
    "        err2 = norm(∂A2-∂A2old)\n",
    "        ∂A1old = copy(∂A1)\n",
    "        ∂A2old = copy(∂A2)\n",
    "        iter += 1\n",
    "    end\n",
    "    println(\"number of iterations = \",iter)\n",
    "    nothing\n",
    "end\n",
    "\n"
   ]
  },
  {
   "cell_type": "markdown",
   "metadata": {},
   "source": [
    "### Discretize the plate and sheets"
   ]
  },
  {
   "cell_type": "markdown",
   "metadata": {},
   "source": [
    "We are simulating a flat plate with zero thickness impulsively translating horizontally at a fixed velocity and angle of attack"
   ]
  },
  {
   "cell_type": "code",
   "execution_count": 298,
   "metadata": {},
   "outputs": [],
   "source": [
    "L = 1.0   # chord length\n",
    "N = 128   # number of plate control points (distributed along a extrema Chebyshev grid)\n",
    "\n",
    "ċ = -L  # translation velocity\n",
    "α = -π/9   # angle of attack\n",
    "\n",
    "Δt = 1e-2; # time step\n",
    "\n",
    "plate1 = Plate(N, L, zero(ComplexF64), α)\n",
    "motion1 = Plates.RigidBodyMotion(ċ, 0.0);\n",
    "\n",
    "plate2 = Plate(N, L, 10+im*10, α)\n",
    "motion2 = Plates.RigidBodyMotion(ċ, 0.0);"
   ]
  },
  {
   "cell_type": "markdown",
   "metadata": {},
   "source": [
    "We place the initial segments of the vortex sheets perpendicularly off each edge of the plate.\n",
    "The sheets themselves are represented as discrete vortex blobs, all with the same blob radius `δ`.\n",
    "Both segments initially have unit circulation."
   ]
  },
  {
   "cell_type": "code",
   "execution_count": 299,
   "metadata": {},
   "outputs": [
    {
     "data": {
      "text/plain": [
       "Vortex Sheet: L ≈ 0.01, Γ = 0.0, δ = 0.01"
      ]
     },
     "execution_count": 299,
     "metadata": {},
     "output_type": "execute_result"
    }
   ],
   "source": [
    "Δz₀ = im*Δt*exp(im*α)\n",
    "z1₋, z1₊ = plate1.zs[[1,N]]\n",
    "z2₋, z2₊ = plate2.zs[[1,N]]\n",
    "\n",
    "\n",
    "δ = 0.01\n",
    "\n",
    "segment1₊ = Vortex.Sheet([0.5, 1.5] .* Δz₀ .+ z1₊, [0.0, 1.0], δ)\n",
    "segment1₋ = Vortex.Sheet([0.5, 1.5] .* Δz₀ .+ z1₋, [0.0, 1.0], δ)\n",
    "\n",
    "segment2₊ = Vortex.Sheet([0.5, 1.5] .* Δz₀ .+ z2₊, [0.0, 1.0], δ)\n",
    "segment2₋ = Vortex.Sheet([0.5, 1.5] .* Δz₀ .+ z2₋, [0.0, 1.0], δ)\n",
    "\n",
    "sheet1₊ = Vortex.Sheet([0.5, 1.5] .* Δz₀ .+ z1₊, [0.0, 0.0], δ)\n",
    "sheet1₋ = Vortex.Sheet([0.5, 1.5] .* Δz₀ .+ z1₋, [0.0, 0.0], δ)\n",
    "sheet2₊ = Vortex.Sheet([0.5, 1.5] .* Δz₀ .+ z2₊, [0.0, 0.0], δ)\n",
    "sheet2₋ = Vortex.Sheet([0.5, 1.5] .* Δz₀ .+ z2₋, [0.0, 0.0], δ) "
   ]
  },
  {
   "cell_type": "markdown",
   "metadata": {},
   "source": [
    "We then adjust the circulation in the vortex sheet segments to satisfy the leading and trailing edge suction parameters.\n",
    "Since we want the Kutta condition to be satisfied at the trailing edge, we set the critical trailing edge suction parameter to zero."
   ]
  },
  {
   "cell_type": "code",
   "execution_count": 300,
   "metadata": {},
   "outputs": [
    {
     "name": "stdout",
     "output_type": "stream",
     "text": [
      "0.11694698857247397    0.11695270893442407    -0.13661301808944185    -0.13660729772749186\n",
      "0.0    0.0024197484144201035    -0.0024414355149910538    0.0025014976047837176\n",
      "0.0    0.0003007834091112361    -0.0003035252639696134    0.00031012114881317273\n",
      "0.0    3.739413271456731e-5    -3.773499322472201e-5    3.855502345372927e-5\n",
      "0.0    4.64892881127945e-6    -4.691305412564578e-6    4.793253549248767e-6\n",
      "0.0    5.779660477156276e-7    -5.832344090455282e-7    5.959088474002569e-7\n",
      "0.0    7.185413376701706e-8    -7.25091090945695e-8    7.408482580096478e-8\n",
      "0.0    8.933079215300788e-9    -9.014507430368067e-9    9.210404353440504e-9\n",
      "0.0    1.1105819603663491e-9    -1.1207052758460981e-9    1.1450596491412505e-9\n",
      "0.0    1.3807027850770675e-10    -1.3932882046239382e-10    1.4235663448562191e-10\n",
      "0.0    1.7165199004141284e-11    -1.7321632091624047e-11    1.7698071432963983e-11\n"
     ]
    }
   ],
   "source": [
    "lesp = 0.1\n",
    "tesp = 0.0\n",
    "\n",
    "\n",
    "global Γ1₊ = 0\n",
    "global Γ1₋ = 0\n",
    "global Γ2₊ = 0\n",
    "global Γ2₋ = 0\n",
    "err = 1.0\n",
    "#plate1tmp = deepcopy(plate1)\n",
    "#plate2tmp = deepcopy(plate2)\n",
    "while err > 1e-10\n",
    "    \n",
    "        Plates.enforce_no_flow_through!(plate1, motion1, plate2, motion2, (sheet1₊, sheet1₋, sheet2₊, sheet2₋), 0)        \n",
    "    \n",
    "        #Plates.enforce_no_flow_through!(plate1, motion1, (plate2tmp,sheet2₊,sheet2₋), 0)\n",
    "        #Plates.enforce_no_flow_through!(plate2, motion2, (plate1tmp,sheet1₊,sheet1₋), 0)\n",
    "            \n",
    "\n",
    "        ΔΓ1₊, ΔΓ1₋, _, _ = Plates.vorticity_flux(plate1, segment1₊, segment1₋, 0, lesp, tesp);\n",
    "        ΔΓ2₊, ΔΓ2₋, _, _ = Plates.vorticity_flux(plate2, segment2₊, segment2₋, 0, lesp, tesp);\n",
    "    \n",
    "        println(ΔΓ1₊,\"    \",ΔΓ2₊,\"    \",ΔΓ1₋,\"    \",ΔΓ2₋)\n",
    "        #println(ΔΓ1₊)\n",
    "\n",
    "        Γ1₊ += ΔΓ1₊\n",
    "        Γ1₋ += ΔΓ1₋\n",
    "        Γ2₊ += ΔΓ2₊\n",
    "        Γ2₋ += ΔΓ2₋\n",
    "    \n",
    "        sheet1₊ = Vortex.Sheet([0.5, 1.5] .* Δz₀ .+ z1₊, [0.0, Γ1₊], δ)\n",
    "        sheet1₋ = Vortex.Sheet([0.5, 1.5] .* Δz₀ .+ z1₋, [0.0, Γ1₋], δ)\n",
    "        sheet2₊ = Vortex.Sheet([0.5, 1.5] .* Δz₀ .+ z2₊, [0.0, Γ2₊], δ)\n",
    "        sheet2₋ = Vortex.Sheet([0.5, 1.5] .* Δz₀ .+ z2₋, [0.0, Γ2₋], δ)\n",
    "    \n",
    "        #Plates.enforce_no_flow_through!(plate1tmp, motion1, (sheet1₊,sheet1₋), 0)\n",
    "        #Plates.enforce_no_flow_through!(plate2tmp, motion2, (sheet2₊,sheet2₋), 0)\n",
    "    \n",
    "        err = sqrt(ΔΓ1₊^2 + ΔΓ1₋^2 + ΔΓ2₊^2 + ΔΓ2₋^2)\n",
    "end\n",
    "    "
   ]
  },
  {
   "cell_type": "code",
   "execution_count": 219,
   "metadata": {},
   "outputs": [
    {
     "data": {
      "text/plain": [
       "0.11980560443807309"
      ]
     },
     "execution_count": 219,
     "metadata": {},
     "output_type": "execute_result"
    }
   ],
   "source": [
    "Γ1₊"
   ]
  },
  {
   "cell_type": "code",
   "execution_count": 220,
   "metadata": {},
   "outputs": [
    {
     "data": {
      "text/plain": [
       "0.11695270893442407"
      ]
     },
     "execution_count": 220,
     "metadata": {},
     "output_type": "execute_result"
    }
   ],
   "source": [
    "Γ2₊"
   ]
  },
  {
   "cell_type": "code",
   "execution_count": 187,
   "metadata": {},
   "outputs": [
    {
     "data": {
      "text/plain": [
       ":colorbrewer"
      ]
     },
     "execution_count": 187,
     "metadata": {},
     "output_type": "execute_result"
    }
   ],
   "source": [
    "using Plots\n",
    "clibrary(:colorbrewer)"
   ]
  },
  {
   "cell_type": "markdown",
   "metadata": {},
   "source": [
    "We organize the flow elements into the plate and ambient elements."
   ]
  },
  {
   "cell_type": "code",
   "execution_count": 188,
   "metadata": {},
   "outputs": [],
   "source": [
    "ambient_sys = (sheet1₊, sheet1₋,sheet2₊, sheet2₋)\n",
    "sys = (plate1, plate2, ambient_sys)\n",
    "ẋs = (motion1, motion2, allocate_velocity(ambient_sys));"
   ]
  },
  {
   "cell_type": "markdown",
   "metadata": {},
   "source": [
    "## Time-Marching"
   ]
  },
  {
   "cell_type": "markdown",
   "metadata": {},
   "source": [
    "We use forward Euler to evolve the system and apply filtering on both the leading and trailing edge vortex sheets to surpress small-scale instabilities."
   ]
  },
  {
   "cell_type": "code",
   "execution_count": 189,
   "metadata": {},
   "outputs": [],
   "source": [
    "tf = 0.1\n",
    "T = 0:Δt:tf\n",
    "\n",
    "for t in T\n",
    "    TimeMarching.forward_euler!(sys, sys, t, Δt, compute_ẋ!, advect!, ẋs)\n",
    "\n",
    "    # Redistribute the points along the free vortex sheet to be at least 2UΔt\n",
    "    # apart from each other.  At the same time, we filter out any length scales\n",
    "    # along the sheet shorter than 6UΔt\n",
    "    for s in 1:4\n",
    "        Sheets.arclength(sys[3][s]) ≥ 3Δt && Sheets.filter!(sys[3][s], 2Δt, 6Δt)\n",
    "    end\n",
    "    \n",
    "    #sheet1₊, sheet1₋, plate1, motion1, sheet2₊, sheet2₋, plate2, motion2\n",
    "    \n",
    "    shed_new_vorticity!(sys[3][1], sys[3][2], sys[1], ẋs[1], sys[3][3], sys[3][4], sys[2], ẋs[2], t + Δt, lesp, tesp)\n",
    "end"
   ]
  },
  {
   "cell_type": "markdown",
   "metadata": {},
   "source": [
    "## Plotting"
   ]
  },
  {
   "cell_type": "markdown",
   "metadata": {},
   "source": [
    "Most flow elements in the library has [plot recipes](https://github.com/JuliaPlots/RecipesBase.jl) defined for them.\n",
    "So once [`Plots.jl`](https://github.com/JuliaPlots/Plots.jl) is installed along with the appropriate backend, we can directly call `plot` on the potential flow elements."
   ]
  },
  {
   "cell_type": "code",
   "execution_count": 190,
   "metadata": {},
   "outputs": [
    {
     "data": {
      "text/plain": [
       ":colorbrewer"
      ]
     },
     "execution_count": 190,
     "metadata": {},
     "output_type": "execute_result"
    }
   ],
   "source": [
    "using Plots\n",
    "clibrary(:colorbrewer)"
   ]
  },
  {
   "cell_type": "code",
   "execution_count": 191,
   "metadata": {},
   "outputs": [
    {
     "data": {
      "image/svg+xml": [
       "<?xml version=\"1.0\" encoding=\"utf-8\"?>\n",
       "<svg xmlns=\"http://www.w3.org/2000/svg\" xmlns:xlink=\"http://www.w3.org/1999/xlink\" width=\"600\" height=\"150\" viewBox=\"0 0 2400 600\">\n",
       "<defs>\n",
       "  <clipPath id=\"clip0200\">\n",
       "    <rect x=\"0\" y=\"0\" width=\"2000\" height=\"2000\"/>\n",
       "  </clipPath>\n",
       "</defs>\n",
       "<defs>\n",
       "  <clipPath id=\"clip0201\">\n",
       "    <rect x=\"0\" y=\"0\" width=\"2400\" height=\"600\"/>\n",
       "  </clipPath>\n",
       "</defs>\n",
       "<polygon clip-path=\"url(#clip0201)\" points=\"\n",
       "0,600 2400,600 2400,0 0,0 \n",
       "  \" fill=\"#ffffff\" fill-rule=\"evenodd\" fill-opacity=\"1\"/>\n",
       "<defs>\n",
       "  <clipPath id=\"clip0202\">\n",
       "    <rect x=\"480\" y=\"0\" width=\"1681\" height=\"600\"/>\n",
       "  </clipPath>\n",
       "</defs>\n",
       "<polygon clip-path=\"url(#clip0201)\" points=\"\n",
       "189.504,379.45 2018.27,379.45 2018.27,192.227 189.504,192.227 \n",
       "  \" fill=\"#ffffff\" fill-rule=\"evenodd\" fill-opacity=\"1\"/>\n",
       "<defs>\n",
       "  <clipPath id=\"clip0203\">\n",
       "    <rect x=\"189\" y=\"192\" width=\"1830\" height=\"188\"/>\n",
       "  </clipPath>\n",
       "</defs>\n",
       "<polyline clip-path=\"url(#clip0201)\" style=\"stroke:#000000; stroke-width:4; stroke-opacity:1; fill:none\" points=\"\n",
       "  189.504,379.45 2018.27,379.45 \n",
       "  \"/>\n",
       "<polyline clip-path=\"url(#clip0201)\" style=\"stroke:#000000; stroke-width:4; stroke-opacity:1; fill:none\" points=\"\n",
       "  189.504,379.45 189.504,192.227 \n",
       "  \"/>\n",
       "<polyline clip-path=\"url(#clip0201)\" style=\"stroke:#000000; stroke-width:4; stroke-opacity:1; fill:none\" points=\"\n",
       "  488.425,379.45 488.425,376.641 \n",
       "  \"/>\n",
       "<polyline clip-path=\"url(#clip0201)\" style=\"stroke:#000000; stroke-width:4; stroke-opacity:1; fill:none\" points=\"\n",
       "  914.681,379.45 914.681,376.641 \n",
       "  \"/>\n",
       "<polyline clip-path=\"url(#clip0201)\" style=\"stroke:#000000; stroke-width:4; stroke-opacity:1; fill:none\" points=\"\n",
       "  1340.94,379.45 1340.94,376.641 \n",
       "  \"/>\n",
       "<polyline clip-path=\"url(#clip0201)\" style=\"stroke:#000000; stroke-width:4; stroke-opacity:1; fill:none\" points=\"\n",
       "  1767.19,379.45 1767.19,376.641 \n",
       "  \"/>\n",
       "<polyline clip-path=\"url(#clip0201)\" style=\"stroke:#000000; stroke-width:4; stroke-opacity:1; fill:none\" points=\"\n",
       "  189.504,377.432 216.936,377.432 \n",
       "  \"/>\n",
       "<polyline clip-path=\"url(#clip0201)\" style=\"stroke:#000000; stroke-width:4; stroke-opacity:1; fill:none\" points=\"\n",
       "  189.504,334.807 216.936,334.807 \n",
       "  \"/>\n",
       "<polyline clip-path=\"url(#clip0201)\" style=\"stroke:#000000; stroke-width:4; stroke-opacity:1; fill:none\" points=\"\n",
       "  189.504,292.181 216.936,292.181 \n",
       "  \"/>\n",
       "<polyline clip-path=\"url(#clip0201)\" style=\"stroke:#000000; stroke-width:4; stroke-opacity:1; fill:none\" points=\"\n",
       "  189.504,249.555 216.936,249.555 \n",
       "  \"/>\n",
       "<polyline clip-path=\"url(#clip0201)\" style=\"stroke:#000000; stroke-width:4; stroke-opacity:1; fill:none\" points=\"\n",
       "  189.504,206.93 216.936,206.93 \n",
       "  \"/>\n",
       "<g clip-path=\"url(#clip0201)\">\n",
       "<text style=\"fill:#000000; fill-opacity:1; font-family:Arial,Helvetica Neue,Helvetica,sans-serif; font-size:48px; text-anchor:middle;\" transform=\"rotate(0, 488.425, 433.45)\" x=\"488.425\" y=\"433.45\">0</text>\n",
       "</g>\n",
       "<g clip-path=\"url(#clip0201)\">\n",
       "<text style=\"fill:#000000; fill-opacity:1; font-family:Arial,Helvetica Neue,Helvetica,sans-serif; font-size:48px; text-anchor:middle;\" transform=\"rotate(0, 914.681, 433.45)\" x=\"914.681\" y=\"433.45\">1</text>\n",
       "</g>\n",
       "<g clip-path=\"url(#clip0201)\">\n",
       "<text style=\"fill:#000000; fill-opacity:1; font-family:Arial,Helvetica Neue,Helvetica,sans-serif; font-size:48px; text-anchor:middle;\" transform=\"rotate(0, 1340.94, 433.45)\" x=\"1340.94\" y=\"433.45\">2</text>\n",
       "</g>\n",
       "<g clip-path=\"url(#clip0201)\">\n",
       "<text style=\"fill:#000000; fill-opacity:1; font-family:Arial,Helvetica Neue,Helvetica,sans-serif; font-size:48px; text-anchor:middle;\" transform=\"rotate(0, 1767.19, 433.45)\" x=\"1767.19\" y=\"433.45\">3</text>\n",
       "</g>\n",
       "<g clip-path=\"url(#clip0201)\">\n",
       "<text style=\"fill:#000000; fill-opacity:1; font-family:Arial,Helvetica Neue,Helvetica,sans-serif; font-size:48px; text-anchor:end;\" transform=\"rotate(0, 165.504, 394.932)\" x=\"165.504\" y=\"394.932\">-0.2</text>\n",
       "</g>\n",
       "<g clip-path=\"url(#clip0201)\">\n",
       "<text style=\"fill:#000000; fill-opacity:1; font-family:Arial,Helvetica Neue,Helvetica,sans-serif; font-size:48px; text-anchor:end;\" transform=\"rotate(0, 165.504, 352.307)\" x=\"165.504\" y=\"352.307\">-0.1</text>\n",
       "</g>\n",
       "<g clip-path=\"url(#clip0201)\">\n",
       "<text style=\"fill:#000000; fill-opacity:1; font-family:Arial,Helvetica Neue,Helvetica,sans-serif; font-size:48px; text-anchor:end;\" transform=\"rotate(0, 165.504, 309.681)\" x=\"165.504\" y=\"309.681\">0.0</text>\n",
       "</g>\n",
       "<g clip-path=\"url(#clip0201)\">\n",
       "<text style=\"fill:#000000; fill-opacity:1; font-family:Arial,Helvetica Neue,Helvetica,sans-serif; font-size:48px; text-anchor:end;\" transform=\"rotate(0, 165.504, 267.055)\" x=\"165.504\" y=\"267.055\">0.1</text>\n",
       "</g>\n",
       "<g clip-path=\"url(#clip0201)\">\n",
       "<text style=\"fill:#000000; fill-opacity:1; font-family:Arial,Helvetica Neue,Helvetica,sans-serif; font-size:48px; text-anchor:end;\" transform=\"rotate(0, 165.504, 224.43)\" x=\"165.504\" y=\"224.43\">0.2</text>\n",
       "</g>\n",
       "<polyline clip-path=\"url(#clip0203)\" style=\"stroke:#000000; stroke-width:4; stroke-opacity:1; fill:none\" points=\"\n",
       "  241.262,219.287 641.812,365.075 \n",
       "  \"/>\n",
       "<polyline clip-path=\"url(#clip0203)\" style=\"stroke:#000000; stroke-width:4; stroke-opacity:1; fill:none\" points=\"\n",
       "  1520.03,219.287 1920.58,365.075 \n",
       "  \"/>\n",
       "<polyline clip-path=\"url(#clip0203)\" style=\"stroke:#67001f; stroke-width:4; stroke-opacity:1; fill:none\" points=\"\n",
       "  670.62,354.407 674.305,347.097 \n",
       "  \"/>\n",
       "<polyline clip-path=\"url(#clip0203)\" style=\"stroke:#67001f; stroke-width:4; stroke-opacity:1; fill:none\" points=\"\n",
       "  674.305,347.097 681.371,341.454 \n",
       "  \"/>\n",
       "<polyline clip-path=\"url(#clip0203)\" style=\"stroke:#67001f; stroke-width:4; stroke-opacity:1; fill:none\" points=\"\n",
       "  681.371,341.454 689.404,343.763 \n",
       "  \"/>\n",
       "<polyline clip-path=\"url(#clip0203)\" style=\"stroke:#67001f; stroke-width:4; stroke-opacity:1; fill:none\" points=\"\n",
       "  689.404,343.763 693.683,351.485 \n",
       "  \"/>\n",
       "<polyline clip-path=\"url(#clip0203)\" style=\"stroke:#67001f; stroke-width:4; stroke-opacity:1; fill:none\" points=\"\n",
       "  693.683,351.485 691.124,359.094 \n",
       "  \"/>\n",
       "<polyline clip-path=\"url(#clip0203)\" style=\"stroke:#67001f; stroke-width:4; stroke-opacity:1; fill:none\" points=\"\n",
       "  691.124,359.094 683.867,364.414 \n",
       "  \"/>\n",
       "<polyline clip-path=\"url(#clip0203)\" style=\"stroke:#67001f; stroke-width:4; stroke-opacity:1; fill:none\" points=\"\n",
       "  683.867,364.414 676.027,367.71 \n",
       "  \"/>\n",
       "<polyline clip-path=\"url(#clip0203)\" style=\"stroke:#67001f; stroke-width:4; stroke-opacity:1; fill:none\" points=\"\n",
       "  676.027,367.71 667.995,368.916 \n",
       "  \"/>\n",
       "<polyline clip-path=\"url(#clip0203)\" style=\"stroke:#67001f; stroke-width:4; stroke-opacity:1; fill:none\" points=\"\n",
       "  667.995,368.916 658.47,368.166 \n",
       "  \"/>\n",
       "<polyline clip-path=\"url(#clip0203)\" style=\"stroke:#67001f; stroke-width:4; stroke-opacity:1; fill:none\" points=\"\n",
       "  658.47,368.166 650.781,366.949 \n",
       "  \"/>\n",
       "<polyline clip-path=\"url(#clip0203)\" style=\"stroke:#67001f; stroke-width:4; stroke-opacity:1; fill:none\" points=\"\n",
       "  650.781,366.949 644.801,365.7 \n",
       "  \"/>\n",
       "<polyline clip-path=\"url(#clip0203)\" style=\"stroke:#053061; stroke-width:4; stroke-opacity:1; fill:none\" points=\"\n",
       "  241.683,214.39 249.485,215.394 \n",
       "  \"/>\n",
       "<polyline clip-path=\"url(#clip0203)\" style=\"stroke:#053061; stroke-width:4; stroke-opacity:1; fill:none\" points=\"\n",
       "  249.485,215.394 260.065,215.143 \n",
       "  \"/>\n",
       "<polyline clip-path=\"url(#clip0203)\" style=\"stroke:#053061; stroke-width:4; stroke-opacity:1; fill:none\" points=\"\n",
       "  260.065,215.143 266.07,211.67 \n",
       "  \"/>\n",
       "<polyline clip-path=\"url(#clip0203)\" style=\"stroke:#053061; stroke-width:4; stroke-opacity:1; fill:none\" points=\"\n",
       "  266.07,211.67 263.332,206.847 \n",
       "  \"/>\n",
       "<polyline clip-path=\"url(#clip0203)\" style=\"stroke:#053061; stroke-width:4; stroke-opacity:1; fill:none\" points=\"\n",
       "  263.332,206.847 254.515,205.927 \n",
       "  \"/>\n",
       "<polyline clip-path=\"url(#clip0203)\" style=\"stroke:#e9f0f4; stroke-width:4; stroke-opacity:1; fill:none\" points=\"\n",
       "  254.515,205.927 245.932,211.164 \n",
       "  \"/>\n",
       "<polyline clip-path=\"url(#clip0203)\" style=\"stroke:#67001f; stroke-width:4; stroke-opacity:1; fill:none\" points=\"\n",
       "  245.932,211.164 241.457,217.377 \n",
       "  \"/>\n",
       "<polyline clip-path=\"url(#clip0203)\" style=\"stroke:#67001f; stroke-width:4; stroke-opacity:1; fill:none\" points=\"\n",
       "  241.457,217.377 241.327,218.65 \n",
       "  \"/>\n",
       "<polyline clip-path=\"url(#clip0203)\" style=\"stroke:#67001f; stroke-width:4; stroke-opacity:1; fill:none\" points=\"\n",
       "  1955.57,354.504 1963,359.771 \n",
       "  \"/>\n",
       "<polyline clip-path=\"url(#clip0203)\" style=\"stroke:#67001f; stroke-width:4; stroke-opacity:1; fill:none\" points=\"\n",
       "  1963,359.771 1966.51,367.338 \n",
       "  \"/>\n",
       "<polyline clip-path=\"url(#clip0203)\" style=\"stroke:#67001f; stroke-width:4; stroke-opacity:1; fill:none\" points=\"\n",
       "  1966.51,367.338 1961.05,372.994 \n",
       "  \"/>\n",
       "<polyline clip-path=\"url(#clip0203)\" style=\"stroke:#c13639; stroke-width:4; stroke-opacity:1; fill:none\" points=\"\n",
       "  1961.05,372.994 1952.44,374.151 \n",
       "  \"/>\n",
       "<polyline clip-path=\"url(#clip0203)\" style=\"stroke:#f4a987; stroke-width:4; stroke-opacity:1; fill:none\" points=\"\n",
       "  1952.44,374.151 1944.56,371.582 \n",
       "  \"/>\n",
       "<polyline clip-path=\"url(#clip0203)\" style=\"stroke:#f7b89a; stroke-width:4; stroke-opacity:1; fill:none\" points=\"\n",
       "  1944.56,371.582 1935.56,368.132 \n",
       "  \"/>\n",
       "<polyline clip-path=\"url(#clip0203)\" style=\"stroke:#ef9a7a; stroke-width:4; stroke-opacity:1; fill:none\" points=\"\n",
       "  1935.56,368.132 1927.72,366.042 \n",
       "  \"/>\n",
       "<polyline clip-path=\"url(#clip0203)\" style=\"stroke:#ec9374; stroke-width:4; stroke-opacity:1; fill:none\" points=\"\n",
       "  1927.72,366.042 1922.96,365.397 \n",
       "  \"/>\n",
       "<polyline clip-path=\"url(#clip0203)\" style=\"stroke:#053061; stroke-width:4; stroke-opacity:1; fill:none\" points=\"\n",
       "  1522.83,204.364 1528.77,209.733 \n",
       "  \"/>\n",
       "<polyline clip-path=\"url(#clip0203)\" style=\"stroke:#053061; stroke-width:4; stroke-opacity:1; fill:none\" points=\"\n",
       "  1528.77,209.733 1536.7,214.188 \n",
       "  \"/>\n",
       "<polyline clip-path=\"url(#clip0203)\" style=\"stroke:#053061; stroke-width:4; stroke-opacity:1; fill:none\" points=\"\n",
       "  1536.7,214.188 1544.62,216.299 \n",
       "  \"/>\n",
       "<polyline clip-path=\"url(#clip0203)\" style=\"stroke:#053061; stroke-width:4; stroke-opacity:1; fill:none\" points=\"\n",
       "  1544.62,216.299 1553.08,217.746 \n",
       "  \"/>\n",
       "<polyline clip-path=\"url(#clip0203)\" style=\"stroke:#053061; stroke-width:4; stroke-opacity:1; fill:none\" points=\"\n",
       "  1553.08,217.746 1561.33,216.091 \n",
       "  \"/>\n",
       "<polyline clip-path=\"url(#clip0203)\" style=\"stroke:#053061; stroke-width:4; stroke-opacity:1; fill:none\" points=\"\n",
       "  1561.33,216.091 1566.77,209.831 \n",
       "  \"/>\n",
       "<polyline clip-path=\"url(#clip0203)\" style=\"stroke:#053061; stroke-width:4; stroke-opacity:1; fill:none\" points=\"\n",
       "  1566.77,209.831 1566.71,202.806 \n",
       "  \"/>\n",
       "<polyline clip-path=\"url(#clip0203)\" style=\"stroke:#053061; stroke-width:4; stroke-opacity:1; fill:none\" points=\"\n",
       "  1566.71,202.806 1560.61,198.583 \n",
       "  \"/>\n",
       "<polyline clip-path=\"url(#clip0203)\" style=\"stroke:#053061; stroke-width:4; stroke-opacity:1; fill:none\" points=\"\n",
       "  1560.61,198.583 1551.65,197.526 \n",
       "  \"/>\n",
       "<polyline clip-path=\"url(#clip0203)\" style=\"stroke:#053061; stroke-width:4; stroke-opacity:1; fill:none\" points=\"\n",
       "  1551.65,197.526 1543.34,198.407 \n",
       "  \"/>\n",
       "<polyline clip-path=\"url(#clip0203)\" style=\"stroke:#053061; stroke-width:4; stroke-opacity:1; fill:none\" points=\"\n",
       "  1543.34,198.407 1535.19,199.194 \n",
       "  \"/>\n",
       "<polyline clip-path=\"url(#clip0203)\" style=\"stroke:#053061; stroke-width:4; stroke-opacity:1; fill:none\" points=\"\n",
       "  1535.19,199.194 1526.26,200.512 \n",
       "  \"/>\n",
       "<polyline clip-path=\"url(#clip0203)\" style=\"stroke:#053061; stroke-width:4; stroke-opacity:1; fill:none\" points=\"\n",
       "  1526.26,200.512 1519.37,205.673 \n",
       "  \"/>\n",
       "<polyline clip-path=\"url(#clip0203)\" style=\"stroke:#053061; stroke-width:4; stroke-opacity:1; fill:none\" points=\"\n",
       "  1519.37,205.673 1516.6,212.142 \n",
       "  \"/>\n",
       "<polyline clip-path=\"url(#clip0203)\" style=\"stroke:#053061; stroke-width:4; stroke-opacity:1; fill:none\" points=\"\n",
       "  1516.6,212.142 1518.89,216.905 \n",
       "  \"/>\n",
       "<defs>\n",
       "  <clipPath id=\"clip0204\">\n",
       "    <rect x=\"2066\" y=\"192\" width=\"73\" height=\"188\"/>\n",
       "  </clipPath>\n",
       "</defs>\n",
       "<g clip-path=\"url(#clip0204)\">\n",
       "<image width=\"72\" height=\"187\" xlink:href=\"data:image/png;base64,\n",
       "iVBORw0KGgoAAAANSUhEUgAAAEgAAAC7CAYAAADG69jwAAACc0lEQVR4nO3dy5WkMBBEUQQBbrR5\n",
       "7f+2q5DGgom3hMW7FnDyRKQENZ/xu/2sTf+V/ekneLkc4+lHeLdcuxNqcgwH1FgxYMWAFQNWDFgx\n",
       "YMWACQLuIGDFQE7nU5kg4A4CnmLAioGcdqzK7oCqjMOv0k2O83j6GV4tw4pV7iCQ47JiTYYXxcpT\n",
       "DOS4HFCT3QRV2U8H1Jgg4EUReA8C3oOArxrAigGXNMhx5ulneDXfxYADAtmtWOWrBsjYHVCT/bJi\n",
       "jUsaWDGQ4zqffoZXM0HAJQ28BwErBqwYMEHAiyLwgxkwQSDjvJ5+hlfL5pKuMnZ/9mmyxZfVxgSB\n",
       "bA6oyjitWGOCgDsIeIoBEwRMEMg4TFDjKQYyrFhlgoCfO0BG/GDWeIqBLHdQlW24gxoHBLJ2fxdr\n",
       "TBBwQMBTDHiTBlYMeIoBEwSymaAqy38Fr7JiINthxZosE1RZMeApBuJ/DdXldkJVpgOqspYTaqwY\n",
       "yDRBlacYyD2ffoR3s2LAJQ1igLrMzQk1LmngTRrEAHVWDGS5pCs/dwAHBHI7oSqf6ZZu4ny63F4U\n",
       "q3zcQVWmA6qsGLBiwIoBEwTcQcCKASsG/F0M+DYPrBiwYsCP9sAPZsAlDfL3NUGNCQL5OqDKioHc\n",
       "nmKVOwhYMWCCgAkCHvPAigErBkwQcEDAigETBBwQyMeP0lWWCapyu6Qr/7YPsGLAigF/egZWDGR+\n",
       "HVBjxUCmS7ryD3ECL4rAexDwmAdZBqjK7fegyooBj3mQ+f08/QyvljXvp5/h1TK/f08/w6tlmqDK\n",
       "igGXNMi6TVBjxYCnGDBBILcJqkwQ8BQDLmlgxYADAlYMmCDwDwaXDJOqgbI7AAAAAElFTkSuQmCC\n",
       "\" transform=\"translate(2066, 192)\"/>\n",
       "</g>\n",
       "<g clip-path=\"url(#clip0201)\">\n",
       "<text style=\"fill:#000000; fill-opacity:1; font-family:Arial,Helvetica Neue,Helvetica,sans-serif; font-size:48px; text-anchor:start;\" transform=\"rotate(0, 2174.27, 393.101)\" x=\"2174.27\" y=\"393.101\">-</text>\n",
       "</g>\n",
       "<g clip-path=\"url(#clip0201)\">\n",
       "<text style=\"fill:#000000; fill-opacity:1; font-family:Arial,Helvetica Neue,Helvetica,sans-serif; font-size:48px; text-anchor:start;\" transform=\"rotate(0, 2202.38, 393.101)\" x=\"2202.38\" y=\"393.101\">0.5</text>\n",
       "</g>\n",
       "<g clip-path=\"url(#clip0201)\">\n",
       "<text style=\"fill:#000000; fill-opacity:1; font-family:Arial,Helvetica Neue,Helvetica,sans-serif; font-size:48px; text-anchor:start;\" transform=\"rotate(0, 2174.27, 374.379)\" x=\"2174.27\" y=\"374.379\">-</text>\n",
       "</g>\n",
       "<g clip-path=\"url(#clip0201)\">\n",
       "<text style=\"fill:#000000; fill-opacity:1; font-family:Arial,Helvetica Neue,Helvetica,sans-serif; font-size:48px; text-anchor:start;\" transform=\"rotate(0, 2202.38, 374.379)\" x=\"2202.38\" y=\"374.379\">0.4</text>\n",
       "</g>\n",
       "<g clip-path=\"url(#clip0201)\">\n",
       "<text style=\"fill:#000000; fill-opacity:1; font-family:Arial,Helvetica Neue,Helvetica,sans-serif; font-size:48px; text-anchor:start;\" transform=\"rotate(0, 2174.27, 355.657)\" x=\"2174.27\" y=\"355.657\">-</text>\n",
       "</g>\n",
       "<g clip-path=\"url(#clip0201)\">\n",
       "<text style=\"fill:#000000; fill-opacity:1; font-family:Arial,Helvetica Neue,Helvetica,sans-serif; font-size:48px; text-anchor:start;\" transform=\"rotate(0, 2202.38, 355.657)\" x=\"2202.38\" y=\"355.657\">0.3</text>\n",
       "</g>\n",
       "<g clip-path=\"url(#clip0201)\">\n",
       "<text style=\"fill:#000000; fill-opacity:1; font-family:Arial,Helvetica Neue,Helvetica,sans-serif; font-size:48px; text-anchor:start;\" transform=\"rotate(0, 2174.27, 336.934)\" x=\"2174.27\" y=\"336.934\">-</text>\n",
       "</g>\n",
       "<g clip-path=\"url(#clip0201)\">\n",
       "<text style=\"fill:#000000; fill-opacity:1; font-family:Arial,Helvetica Neue,Helvetica,sans-serif; font-size:48px; text-anchor:start;\" transform=\"rotate(0, 2202.38, 336.934)\" x=\"2202.38\" y=\"336.934\">0.2</text>\n",
       "</g>\n",
       "<g clip-path=\"url(#clip0201)\">\n",
       "<text style=\"fill:#000000; fill-opacity:1; font-family:Arial,Helvetica Neue,Helvetica,sans-serif; font-size:48px; text-anchor:start;\" transform=\"rotate(0, 2174.27, 318.212)\" x=\"2174.27\" y=\"318.212\">-</text>\n",
       "</g>\n",
       "<g clip-path=\"url(#clip0201)\">\n",
       "<text style=\"fill:#000000; fill-opacity:1; font-family:Arial,Helvetica Neue,Helvetica,sans-serif; font-size:48px; text-anchor:start;\" transform=\"rotate(0, 2202.38, 318.212)\" x=\"2202.38\" y=\"318.212\">0.1</text>\n",
       "</g>\n",
       "<g clip-path=\"url(#clip0201)\">\n",
       "<text style=\"fill:#000000; fill-opacity:1; font-family:Arial,Helvetica Neue,Helvetica,sans-serif; font-size:48px; text-anchor:start;\" transform=\"rotate(0, 2174.27, 299.49)\" x=\"2174.27\" y=\"299.49\">0</text>\n",
       "</g>\n",
       "<g clip-path=\"url(#clip0201)\">\n",
       "<text style=\"fill:#000000; fill-opacity:1; font-family:Arial,Helvetica Neue,Helvetica,sans-serif; font-size:48px; text-anchor:start;\" transform=\"rotate(0, 2174.27, 280.767)\" x=\"2174.27\" y=\"280.767\">0.1</text>\n",
       "</g>\n",
       "<g clip-path=\"url(#clip0201)\">\n",
       "<text style=\"fill:#000000; fill-opacity:1; font-family:Arial,Helvetica Neue,Helvetica,sans-serif; font-size:48px; text-anchor:start;\" transform=\"rotate(0, 2174.27, 262.045)\" x=\"2174.27\" y=\"262.045\">0.2</text>\n",
       "</g>\n",
       "<g clip-path=\"url(#clip0201)\">\n",
       "<text style=\"fill:#000000; fill-opacity:1; font-family:Arial,Helvetica Neue,Helvetica,sans-serif; font-size:48px; text-anchor:start;\" transform=\"rotate(0, 2174.27, 243.323)\" x=\"2174.27\" y=\"243.323\">0.3</text>\n",
       "</g>\n",
       "<g clip-path=\"url(#clip0201)\">\n",
       "<text style=\"fill:#000000; fill-opacity:1; font-family:Arial,Helvetica Neue,Helvetica,sans-serif; font-size:48px; text-anchor:start;\" transform=\"rotate(0, 2174.27, 224.601)\" x=\"2174.27\" y=\"224.601\">0.4</text>\n",
       "</g>\n",
       "<g clip-path=\"url(#clip0201)\">\n",
       "<text style=\"fill:#000000; fill-opacity:1; font-family:Arial,Helvetica Neue,Helvetica,sans-serif; font-size:48px; text-anchor:start;\" transform=\"rotate(0, 2174.27, 205.878)\" x=\"2174.27\" y=\"205.878\">0.5</text>\n",
       "</g>\n",
       "<polyline clip-path=\"url(#clip0201)\" style=\"stroke:#000000; stroke-width:4; stroke-opacity:1; fill:none\" points=\"\n",
       "  2138.27,379.45 2138.27,379.45 2162.27,379.45 2138.27,379.45 2138.27,360.728 2162.27,360.728 2138.27,360.728 2138.27,342.005 2162.27,342.005 2138.27,342.005 \n",
       "  2138.27,323.283 2162.27,323.283 2138.27,323.283 2138.27,304.561 2162.27,304.561 2138.27,304.561 2138.27,285.839 2162.27,285.839 2138.27,285.839 2138.27,267.116 \n",
       "  2162.27,267.116 2138.27,267.116 2138.27,248.394 2162.27,248.394 2138.27,248.394 2138.27,229.672 2162.27,229.672 2138.27,229.672 2138.27,210.949 2162.27,210.949 \n",
       "  2138.27,210.949 2138.27,192.227 2162.27,192.227 2138.27,192.227 \n",
       "  \"/>\n",
       "<g clip-path=\"url(#clip0201)\">\n",
       "<image width=\"44\" height=\"35\" xlink:href=\"data:image/png;base64,\n",
       "iVBORw0KGgoAAAANSUhEUgAAACwAAAAjCAYAAADv0ujUAAACNElEQVRYhdWX/42zMAyGTSdwGSF0\n",
       "gogRMkJmyAjMwAh0hbQTRB0hZQJghJQN3vvnO1R+tEdPvZLPEhKYxDxxbMckAKhtW2RZltB/IDsi\n",
       "osPhQFmW4Xg8YmugHwUAOecgpQQRgZlRliVCCABAsV2jh3twIoIxBk3TRAW+qJyCa63hvY8C/OlL\n",
       "7z201gO4lBLW2k3BVw1qmgbGmAFcCLFZnL88oaqqUbgopT7q9V9P9N6PvM7MMMb8eay/xcjU638Z\n",
       "Mm81Nk3S+5B5F3wCvH64Xa9XeO+prmvy3lPf9xRCoL7vn85jZlJKkRCC8jwnKSW92hKsAr7dbrDW\n",
       "0vl8psvlMoPI85yYmYiI0jQd7r8XEEKgruuorutF+1JKUkqRUoryPKf9fv94Ec/cb62FUmq0xUII\n",
       "FEXx6+RyzqEoCgghRnan3zDGLIbSwySaGlRKvb0ChBBgrYXWGsz8cAH3pXNmYOpRZv7Ysdw0Dcqy\n",
       "hNZ6cQeMMRhiuG1b5Hk+ShwhBDnnXk6Md8p9gmutafDsdEuYOcoWkwDQ/Yn1fVVVFR0s8K8OJ0ky\n",
       "qm3MTLfbLcpfpt3pdJoVYqXUFiyrZNd13UwZNfCSMk3TT3Oslp2UcmuGl2QnhJgpQwgboKwUALR0\n",
       "DG9dvp7W4aqqZnV4a7CnwABoetI556KEHm689yNgKWXcwEuhUZZldNAzxRQ6ttBYVFpro/X0wxfT\n",
       "Zl5KGYW3fxxgrR11/0KITfvk1QO99yiKAlLKTYG/AIdS82BSe1hQAAAAAElFTkSuQmCC\n",
       "\" transform=\"translate(2256, 268)\"/>\n",
       "</g>\n",
       "</svg>\n"
      ]
     },
     "execution_count": 191,
     "metadata": {},
     "output_type": "execute_result"
    }
   ],
   "source": [
    "plot(sys, ratio = 1, color = :RdBu_r, clims = (-0.5, 0.5), \n",
    "     legend = :none, colorbar = :right, colorbar_title = \"\\$\\\\gamma\\$\", \n",
    "     size = (600, 150), grid = false)"
   ]
  },
  {
   "cell_type": "code",
   "execution_count": 84,
   "metadata": {},
   "outputs": [
    {
     "data": {
      "text/plain": [
       "(Plate: N = 128, L = 1.0, c = 1.0100000000000007 + 0.0im, α = -20.0ᵒ\n",
       "       LESP = NaN, TESP = NaN, Plate: N = 128, L = 1.0, c = 2.209999999999996 + 0.0im, α = -20.0ᵒ\n",
       "       LESP = NaN, TESP = NaN, (Vortex Sheet: L ≈ NaN, Γ = -0.124, δ = 0.01, Vortex Sheet: L ≈ NaN, Γ = 0.144, δ = 0.01, Vortex Sheet: L ≈ NaN, Γ = -0.125, δ = 0.01, Vortex Sheet: L ≈ NaN, Γ = 0.144, δ = 0.01))"
      ]
     },
     "execution_count": 84,
     "metadata": {},
     "output_type": "execute_result"
    }
   ],
   "source": [
    "sys"
   ]
  },
  {
   "cell_type": "code",
   "execution_count": null,
   "metadata": {},
   "outputs": [],
   "source": []
  }
 ],
 "metadata": {
  "kernelspec": {
   "display_name": "Julia 1.1.0",
   "language": "julia",
   "name": "julia-1.1"
  },
  "language_info": {
   "file_extension": ".jl",
   "mimetype": "application/julia",
   "name": "julia",
   "version": "1.1.0"
  }
 },
 "nbformat": 4,
 "nbformat_minor": 2
}
